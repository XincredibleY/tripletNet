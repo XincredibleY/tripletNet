{
 "cells": [
  {
   "cell_type": "code",
   "execution_count": 1,
   "metadata": {
    "collapsed": true
   },
   "outputs": [],
   "source": [
    "import numpy as np\n",
    "import matplotlib.pyplot as plt\n",
    "from PIL import Image\n",
    "import random\n",
    "# random.seed(0)\n",
    "\n",
    "%matplotlib inline"
   ]
  },
  {
   "cell_type": "code",
   "execution_count": 2,
   "metadata": {},
   "outputs": [
    {
     "name": "stderr",
     "output_type": "stream",
     "text": [
      "Using TensorFlow backend.\n"
     ]
    }
   ],
   "source": [
    "# Convolutional Neural Network\n",
    "# keras functional API\n",
    "from keras.utils import plot_model\n",
    "from keras.models import Model\n",
    "from keras.layers import Input,Layer,Lambda\n",
    "from keras.layers import Flatten,BatchNormalization\n",
    "from keras.layers import Dense,Dropout\n",
    "from keras.layers.convolutional import Conv2D\n",
    "from keras.layers.pooling import MaxPooling2D\n",
    "from keras import backend as K\n"
   ]
  },
  {
   "cell_type": "code",
   "execution_count": 3,
   "metadata": {
    "collapsed": true
   },
   "outputs": [],
   "source": [
    "imheight = 28\n",
    "imwidth = 28\n",
    "channels = 1\n",
    "# ALPHA = 0.2\n",
    "ALPHA=0.2"
   ]
  },
  {
   "cell_type": "code",
   "execution_count": 4,
   "metadata": {
    "collapsed": true
   },
   "outputs": [],
   "source": [
    "# shared Layer \n",
    "shared_Conv1= Conv2D(32, (4,4), padding='same', activation='relu')\n",
    "shared_MP1= MaxPooling2D(pool_size=(2, 2))"
   ]
  },
  {
   "cell_type": "code",
   "execution_count": 5,
   "metadata": {
    "collapsed": true
   },
   "outputs": [],
   "source": [
    "def create_embNet():\n",
    "    some_input = Input(shape=(imwidth, imheight, channels))\n",
    "    conv1 = shared_Conv1(some_input)\n",
    "    pool1 = shared_MP1(conv1)\n",
    "    conv2 = Conv2D(32, (4,4) , padding='same', activation='relu')(pool1)\n",
    "    pool2 = MaxPooling2D(pool_size=(2, 2))(conv2)\n",
    "    conv3 = Conv2D(32, (4,4) , padding='same', activation='relu')(pool2)\n",
    "    pool3 = MaxPooling2D(pool_size=(2, 2))(conv3)\n",
    "    flatten = Flatten()(pool2)\n",
    "    dense_layer = Dense(10, activation='relu')(flatten)\n",
    "    norm_layer = Lambda(lambda  x: K.l2_normalize(x, axis=1), name='norm_layer')(dense_layer)\n",
    "    return Model(inputs=[some_input], outputs=norm_layer)"
   ]
  },
  {
   "cell_type": "code",
   "execution_count": 6,
   "metadata": {
    "collapsed": true
   },
   "outputs": [],
   "source": [
    "# define three Inputs\n",
    "a_in = Input(shape = (imheight, imwidth, channels), name='anchor_input')\n",
    "p_in = Input(shape = (imheight, imwidth, channels), name='positive_input')\n",
    "n_in = Input(shape = (imheight, imwidth, channels), name='negative_input')"
   ]
  },
  {
   "cell_type": "code",
   "execution_count": 7,
   "metadata": {},
   "outputs": [],
   "source": [
    "# for embedding\n",
    "embNet_a = create_embNet()\n",
    "embNet_p = create_embNet()\n",
    "embNet_n = create_embNet()\n",
    "\n",
    "a_emb = embNet_a(a_in)\n",
    "p_emb = embNet_p(p_in)\n",
    "n_emb = embNet_n(n_in)"
   ]
  },
  {
   "cell_type": "code",
   "execution_count": 8,
   "metadata": {
    "collapsed": true
   },
   "outputs": [],
   "source": [
    "class TripletLossLayer(Layer):\n",
    "    def __init__(self, alpha, **kwargs):\n",
    "        self.alpha = alpha\n",
    "        super(TripletLossLayer, self).__init__(**kwargs)\n",
    "    \n",
    "    def triplet_loss(self, inputs):\n",
    "        a, p, n = inputs\n",
    "        p_dist = K.sum(K.square(a-p), axis=-1)\n",
    "        n_dist = K.sum(K.square(a-n), axis=-1)\n",
    "        return K.sum(K.maximum(p_dist - n_dist + self.alpha, 0), axis=0)\n",
    "    \n",
    "    def call(self, inputs):\n",
    "        loss = self.triplet_loss(inputs)\n",
    "        self.add_loss(loss)\n",
    "        return loss\n",
    "    \n",
    "    def get_config(self):\n",
    "        config = {'alpha': self.alpha}\n",
    "        base_config = super(TripletLossLayer, self).get_config()\n",
    "        return dict(list(base_config.items()) + list(config.items()))"
   ]
  },
  {
   "cell_type": "code",
   "execution_count": 9,
   "metadata": {
    "collapsed": true
   },
   "outputs": [],
   "source": [
    "# Layer that computes the triplet loss from anchor, positive and negative embedding vectors\n",
    "triplet_loss_layer = TripletLossLayer(alpha=ALPHA, name='triplet_loss_layer')([a_emb, p_emb, n_emb])\n",
    "\n",
    "# Model that can be trained with anchor, positive negative images\n",
    "tripletNet = Model([a_in, p_in, n_in], triplet_loss_layer)"
   ]
  },
  {
   "cell_type": "markdown",
   "metadata": {},
   "source": [
    "## -----------------------------------------------------------------------------------------\n",
    "## make triplet with mnist dataset"
   ]
  },
  {
   "cell_type": "code",
   "execution_count": 10,
   "metadata": {
    "collapsed": true
   },
   "outputs": [],
   "source": [
    "from keras.datasets import mnist\n",
    "from keras.utils import np_utils\n",
    "\n",
    "# load mnist\n",
    "(X_train, y_train), (X_test, y_test) = mnist.load_data()"
   ]
  },
  {
   "cell_type": "markdown",
   "metadata": {},
   "source": [
    "## Reshape mnist data from (60000,28,28) to (60000,28,28,1)"
   ]
  },
  {
   "cell_type": "code",
   "execution_count": 11,
   "metadata": {},
   "outputs": [],
   "source": [
    "if K.image_data_format() == 'channels_first': # Theano backend\n",
    "    X_train = X_train.reshape(X_train.shape[0], 1, imwidth, imheight)\n",
    "    X_test = X_test.reshape(X_test.shape[0], 1, imwidth, imheight)\n",
    "    input_shape = (1, imwidth, imheight)\n",
    "else:                                         # Tensorflow backend\n",
    "    X_train = X_train.reshape(X_train.shape[0], imwidth, imheight, 1)\n",
    "    X_test = X_test.reshape(X_test.shape[0], imwidth, imheight, 1)\n",
    "    input_shape = (imwidth, imheight, 1)"
   ]
  },
  {
   "cell_type": "code",
   "execution_count": 25,
   "metadata": {},
   "outputs": [
    {
     "data": {
      "text/plain": [
       "(array([    1,    21,    34, ..., 59952, 59972, 59987]),)"
      ]
     },
     "execution_count": 25,
     "metadata": {},
     "output_type": "execute_result"
    }
   ],
   "source": [
    "# get indexes of y = 0\n",
    "np.where(y_train == 0)"
   ]
  },
  {
   "cell_type": "code",
   "execution_count": 26,
   "metadata": {},
   "outputs": [
    {
     "name": "stdout",
     "output_type": "stream",
     "text": [
      "(5923, 28, 28, 1)\n",
      "(28, 28, 1)\n"
     ]
    }
   ],
   "source": [
    "print(X_train[np.where(y_train == 0)].shape)\n",
    "print(X_train[np.where(y_train == 0)][0].shape)"
   ]
  },
  {
   "cell_type": "code",
   "execution_count": 27,
   "metadata": {
    "scrolled": false
   },
   "outputs": [
    {
     "data": {
      "text/plain": [
       "<matplotlib.image.AxesImage at 0x7fc834007588>"
      ]
     },
     "execution_count": 27,
     "metadata": {},
     "output_type": "execute_result"
    },
    {
     "data": {
      "image/png": "[encoded data removed]",
      "text/plain": [
       "<matplotlib.figure.Figure at 0x7fc81d86fe10>"
      ]
     },
     "metadata": {},
     "output_type": "display_data"
    }
   ],
   "source": [
    "# 謎のエラー\n",
    "plt.imshow(X_train[np.where(y_train == 0)][0].reshape(imwidth,imheight))"
   ]
  },
  {
   "cell_type": "code",
   "execution_count": 28,
   "metadata": {
    "collapsed": true
   },
   "outputs": [],
   "source": [
    "X_train0 = X_train[np.where(y_train == 0)]\n",
    "X_train1 = X_train[np.where(y_train == 1)]\n",
    "X_train2 = X_train[np.where(y_train == 2)]\n",
    "X_train3 = X_train[np.where(y_train == 3)]\n",
    "X_train4 = X_train[np.where(y_train == 4)]\n",
    "X_train5 = X_train[np.where(y_train == 5)]\n",
    "X_train6 = X_train[np.where(y_train == 6)]\n",
    "X_train7 = X_train[np.where(y_train == 7)]\n",
    "X_train8 = X_train[np.where(y_train == 8)]\n",
    "X_train9 = X_train[np.where(y_train == 9)]"
   ]
  },
  {
   "cell_type": "code",
   "execution_count": 29,
   "metadata": {
    "collapsed": true
   },
   "outputs": [],
   "source": [
    "# get anchor and positive image　\n",
    "pair = np.random.randint(0,len(X_train1),2)\n",
    "anchor = X_train1[pair[0]]\n",
    "positive = X_train1[pair[1]]\n",
    "\n",
    "nega_idx = np.random.randint(len(X_train2))\n",
    "negative = X_train2[nega_idx]"
   ]
  },
  {
   "cell_type": "code",
   "execution_count": 30,
   "metadata": {},
   "outputs": [
    {
     "data": {
      "image/png": "[encoded data removed]",
      "text/plain": [
       "<matplotlib.figure.Figure at 0x7fc803c5a160>"
      ]
     },
     "metadata": {},
     "output_type": "display_data"
    }
   ],
   "source": [
    "triplet = [anchor, positive, negative]\n",
    "# method for visualization\n",
    "def plot_triplet(triplet):\n",
    "    title = ['anchor','positive','negative']\n",
    "    for i,t in enumerate(triplet):\n",
    "        plt.subplot(1,3,i+1)\n",
    "        plt.imshow(triplet[i].reshape(imwidth, imheight))\n",
    "        plt.title('{}'.format(title[i]))\n",
    "    plt.show()\n",
    "    \n",
    "plot_triplet(triplet)"
   ]
  },
  {
   "cell_type": "markdown",
   "metadata": {},
   "source": [
    "## Create Triplets"
   ]
  },
  {
   "cell_type": "code",
   "execution_count": 31,
   "metadata": {
    "scrolled": false
   },
   "outputs": [
    {
     "name": "stdout",
     "output_type": "stream",
     "text": [
      "save file\n"
     ]
    }
   ],
   "source": [
    "triplet_num = 2000\n",
    "triplets = []\n",
    "mnist_data = [X_train0,X_train1,X_train2,X_train3,X_train4,X_train5,X_train6,X_train7,X_train8,X_train9]\n",
    "for i in range(len(mnist_data)): # roop for 0~!\n",
    "    # set the files of anchor and positive images\n",
    "    pres_mnist = mnist_data[i]\n",
    "    for iteration in range(triplet_num):\n",
    "        # set the number of negative images\n",
    "        j = random.choice([num for num in range(len(mnist_data)) if num not in [i]])\n",
    "        nega_files = mnist_data[j]\n",
    "\n",
    "        # get anchor and positive images as numpy array\n",
    "        pair = np.random.randint(0,len(pres_mnist),2)\n",
    "        anchor = pres_mnist[pair[0]]\n",
    "        positive = pres_mnist[pair[1]]\n",
    "        \n",
    "        # get negative images as numpy array\n",
    "        nega_idx = np.random.randint(len(nega_files))\n",
    "        negative = nega_files[nega_idx]\n",
    "\n",
    "        # make triplet\n",
    "        triplet = [anchor, positive, negative]\n",
    "        \n",
    "        # (optional)visualization\n",
    "        # plot_triplet(triplet)\n",
    "        \n",
    "        # append with normalization (0,1)\n",
    "        triplets.append([anchor/255., positive/255., negative/255.])\n",
    "        \n",
    "# save triplets as numpy array\n",
    "triplets = np.array(triplets)\n",
    "print('save file')\n",
    "np.save('./mnist_model/mnisTriplets.npy',triplets)"
   ]
  },
  {
   "cell_type": "code",
   "execution_count": 32,
   "metadata": {
    "scrolled": true
   },
   "outputs": [
    {
     "name": "stdout",
     "output_type": "stream",
     "text": [
      "(20000, 3, 28, 28, 1)\n"
     ]
    }
   ],
   "source": [
    "triplets = np.load('./mnist_model/mnisTriplets.npy')\n",
    "print(triplets.shape)"
   ]
  },
  {
   "cell_type": "code",
   "execution_count": 33,
   "metadata": {
    "scrolled": true
   },
   "outputs": [
    {
     "data": {
      "text/plain": [
       "numpy.ndarray"
      ]
     },
     "execution_count": 33,
     "metadata": {},
     "output_type": "execute_result"
    }
   ],
   "source": [
    "type(triplets)"
   ]
  },
  {
   "cell_type": "code",
   "execution_count": 39,
   "metadata": {},
   "outputs": [
    {
     "data": {
      "text/plain": [
       "(20000, 28, 28, 1)"
      ]
     },
     "execution_count": 39,
     "metadata": {},
     "output_type": "execute_result"
    }
   ],
   "source": [
    "triplets[:,2].shape"
   ]
  },
  {
   "cell_type": "code",
   "execution_count": 13,
   "metadata": {
    "scrolled": false
   },
   "outputs": [
    {
     "name": "stderr",
     "output_type": "stream",
     "text": [
      "/home/inouelab/.conda/envs/keras35/lib/python3.5/site-packages/ipykernel_launcher.py:4: UserWarning: Output \"triplet_loss_layer\" missing from loss dictionary. We assume this was done on purpose, and we will not be expecting any data to be passed to \"triplet_loss_layer\" during training.\n",
      "  after removing the cwd from sys.path.\n"
     ]
    },
    {
     "name": "stdout",
     "output_type": "stream",
     "text": [
      "Epoch 1/10\n",
      "20000/20000 [==============================] - 4s 222us/step - loss: 0.1152\n",
      "Epoch 2/10\n",
      "20000/20000 [==============================] - 2s 124us/step - loss: 0.0000e+00\n",
      "Epoch 3/10\n",
      "20000/20000 [==============================] - 2s 122us/step - loss: 0.0000e+00\n",
      "Epoch 4/10\n",
      "20000/20000 [==============================] - 2s 121us/step - loss: 0.0000e+00\n",
      "Epoch 5/10\n",
      "20000/20000 [==============================] - 2s 124us/step - loss: 0.0000e+00\n",
      "Epoch 6/10\n",
      "20000/20000 [==============================] - 2s 123us/step - loss: 0.0000e+00\n",
      "Epoch 7/10\n",
      "20000/20000 [==============================] - 2s 125us/step - loss: 0.0000e+00\n",
      "Epoch 8/10\n",
      "20000/20000 [==============================] - 3s 126us/step - loss: 0.0000e+00\n",
      "Epoch 9/10\n",
      "20000/20000 [==============================] - 2s 124us/step - loss: 0.0000e+00\n",
      "Epoch 10/10\n",
      "20000/20000 [==============================] - 2s 122us/step - loss: 0.0000e+00\n"
     ]
    }
   ],
   "source": [
    "triplets = np.load('./mnist_model/mnisTriplets.npy')\n",
    "\n",
    "# compile model\n",
    "tripletNet.compile(loss=None, optimizer='adam')\n",
    "\n",
    "# fit model\n",
    "# tripletNet.fit([triplets[:,0],triplets[:,1],triplets[:,2]], epochs=10, steps_per_epoch=100)\n",
    "tripletNet.fit([triplets[:,0],triplets[:,1],triplets[:,2]], epochs=10, batch_size=100) # using batch_size is better\n",
    "tripletNet.save('./mnist_model/mnisTriplet.h5')\n",
    "\n",
    "# save partial Network \n",
    "embNet_a.save('./mnist_model/mnist_embNet_a.h5')\n",
    "embNet_p.save('./mnist_model/mnist_embNet_p.h5')\n",
    "embNet_n.save('./mnist_model/mnist_embNet_n.h5')"
   ]
  },
  {
   "cell_type": "code",
   "execution_count": 14,
   "metadata": {},
   "outputs": [
    {
     "name": "stderr",
     "output_type": "stream",
     "text": [
      "/home/inouelab/.conda/envs/keras35/lib/python3.5/site-packages/keras/models.py:252: UserWarning: No training configuration found in save file: the model was *not* compiled. Compile it manually.\n",
      "  warnings.warn('No training configuration found in save file: '\n"
     ]
    }
   ],
   "source": [
    "from keras.models import load_model\n",
    "embNet = load_model('./mnist_model/mnist_embNet_a.h5')"
   ]
  },
  {
   "cell_type": "code",
   "execution_count": 15,
   "metadata": {},
   "outputs": [],
   "source": [
    "emb_vecs = np.zeros((len(X_test),10))\n",
    "# plt.subplots_adjust(wspace=2, hspace=2)\n",
    "# plt.figure(figsize=(15,15))\n",
    "for i,x in enumerate(X_test):\n",
    "#     plt.subplot(1,len(X_test),i+1)\n",
    "#     plt.imshow(x.reshape(imheight,imwidth))\n",
    "    x = (x/255.).astype(np.float32)\n",
    "    emb_vecs[i] = embNet.predict(np.expand_dims(x,axis=0))[0] # need [0] because of expanding dimension -> [[]]\n",
    "plt.show()"
   ]
  },
  {
   "cell_type": "code",
   "execution_count": 16,
   "metadata": {
    "collapsed": true
   },
   "outputs": [],
   "source": [
    "def distance(emb1, emb2):\n",
    "    return np.sum(np.square(emb1 - emb2))"
   ]
  },
  {
   "cell_type": "code",
   "execution_count": 27,
   "metadata": {},
   "outputs": [],
   "source": [
    "test = embNet.predict(np.expand_dims((X_train[4] / 255.).astype(np.float32),axis=0))[0]"
   ]
  },
  {
   "cell_type": "code",
   "execution_count": 28,
   "metadata": {},
   "outputs": [
    {
     "data": {
      "text/plain": [
       "<matplotlib.image.AxesImage at 0x7f638014df60>"
      ]
     },
     "execution_count": 28,
     "metadata": {},
     "output_type": "execute_result"
    },
    {
     "data": {
      "image/png": "[encoded data removed]",
      "text/plain": [
       "<matplotlib.figure.Figure at 0x7f63d44eeda0>"
      ]
     },
     "metadata": {},
     "output_type": "display_data"
    }
   ],
   "source": [
    "similarities = np.zeros(len(emb_vecs))\n",
    "for i,emb_vec in enumerate(emb_vecs):\n",
    "    similarities[i] = distance(test,emb_vec)\n",
    "min_idx = np.argmin(similarities)\n",
    "nearest = X_test[min_idx]\n",
    "\n",
    "plt.imshow(nearest.reshape(imwidth,imheight))"
   ]
  },
  {
   "cell_type": "code",
   "execution_count": 29,
   "metadata": {},
   "outputs": [
    {
     "data": {
      "text/plain": [
       "<matplotlib.image.AxesImage at 0x7f6380107860>"
      ]
     },
     "execution_count": 29,
     "metadata": {},
     "output_type": "execute_result"
    },
    {
     "data": {
      "image/png": "[encoded data removed]",
      "text/plain": [
       "<matplotlib.figure.Figure at 0x7f63d4564390>"
      ]
     },
     "metadata": {},
     "output_type": "display_data"
    }
   ],
   "source": [
    "plt.imshow(X_train[4].reshape(imwidth,imheight))"
   ]
  },
  {
   "cell_type": "code",
   "execution_count": null,
   "metadata": {
    "collapsed": true
   },
   "outputs": [],
   "source": []
  },
  {
   "cell_type": "code",
   "execution_count": null,
   "metadata": {
    "collapsed": true
   },
   "outputs": [],
   "source": []
  }
 ],
 "metadata": {
  "kernelspec": {
   "display_name": "keras35",
   "language": "python",
   "name": "keras35"
  },
  "language_info": {
   "codemirror_mode": {
    "name": "ipython",
    "version": 3
   },
   "file_extension": ".py",
   "mimetype": "text/x-python",
   "name": "python",
   "nbconvert_exporter": "python",
   "pygments_lexer": "ipython3",
   "version": "3.5.4"
  }
 },
 "nbformat": 4,
 "nbformat_minor": 2
}
