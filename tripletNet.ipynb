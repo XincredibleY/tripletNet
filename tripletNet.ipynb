{
 "cells": [
  {
   "cell_type": "code",
   "execution_count": 1,
   "metadata": {
    "collapsed": true
   },
   "outputs": [],
   "source": [
    "import numpy as np\n",
    "import matplotlib.pyplot as plt\n",
    "from PIL import Image\n",
    "import random\n",
    "\n",
    "%matplotlib inline"
   ]
  },
  {
   "cell_type": "code",
   "execution_count": 2,
   "metadata": {},
   "outputs": [
    {
     "name": "stderr",
     "output_type": "stream",
     "text": [
      "Using TensorFlow backend.\n"
     ]
    }
   ],
   "source": [
    "# Convolutional Neural Network\n",
    "# keras functional API\n",
    "from keras.utils import plot_model\n",
    "from keras.models import Model\n",
    "from keras.layers import Input,Layer,Lambda\n",
    "from keras.layers import Flatten,BatchNormalization\n",
    "from keras.layers import Dense,Dropout\n",
    "from keras.layers.convolutional import Conv2D\n",
    "from keras.layers.pooling import MaxPooling2D\n",
    "from keras import backend as K\n",
    "\n",
    "# import tensorflow as tf\n",
    "# tf.set_random_seed(1)"
   ]
  },
  {
   "cell_type": "code",
   "execution_count": 29,
   "metadata": {
    "collapsed": true
   },
   "outputs": [],
   "source": [
    "imhight = 128\n",
    "imwidth = 128\n",
    "\n",
    "# ALPHA = 0.2\n",
    "ALPHA=100"
   ]
  },
  {
   "cell_type": "markdown",
   "metadata": {},
   "source": [
    "# ネットワーク構造の定義\n",
    "低層を共有"
   ]
  },
  {
   "cell_type": "code",
   "execution_count": 4,
   "metadata": {
    "collapsed": true
   },
   "outputs": [],
   "source": [
    "# shared Layer \n",
    "shared_Conv1= Conv2D(64, (4,4), padding='same', activation='relu')\n",
    "shared_MP1= MaxPooling2D(pool_size=(2, 2))"
   ]
  },
  {
   "cell_type": "markdown",
   "metadata": {},
   "source": [
    "### 最終的に埋め込みベクトルが欲しいのでSequentialで部分的にネットワークを定義しあとで使う\n",
    "```\n",
    "emb_vec = embNet.predict(a_in_test)\n",
    "```"
   ]
  },
  {
   "cell_type": "code",
   "execution_count": 5,
   "metadata": {
    "collapsed": true
   },
   "outputs": [],
   "source": [
    "from keras import Sequential\n",
    "def make_embNet():\n",
    "    embNet = Sequential()\n",
    "    embNet.add(Conv2D(64, (4,4) , padding='same', activation='relu',input_shape=(imhight,imwidth,3)))\n",
    "    embNet.add(MaxPooling2D(pool_size=(2, 2)))\n",
    "    embNet.add(BatchNormalization())\n",
    "    embNet.add(Conv2D(64, (4,4) , padding='same', activation='relu'))\n",
    "    embNet.add(MaxPooling2D(pool_size=(2, 2)))\n",
    "    embNet.add(BatchNormalization())\n",
    "    embNet.add(Conv2D(128, (4,4) , padding='same', activation='relu'))\n",
    "    embNet.add(MaxPooling2D(pool_size=(2, 2)))\n",
    "    embNet.add(BatchNormalization())\n",
    "    embNet.add(Flatten()) # flatten before dense\n",
    "    embNet.add(Dense(10, activation='relu'))\n",
    "    return embNet"
   ]
  },
  {
   "cell_type": "markdown",
   "metadata": {},
   "source": [
    "### with functional api"
   ]
  },
  {
   "cell_type": "code",
   "execution_count": 6,
   "metadata": {
    "collapsed": true
   },
   "outputs": [],
   "source": [
    "def create_embNet():\n",
    "    some_input = Input(shape=(128, 128, 3))\n",
    "    conv1 = shared_Conv1(some_input)\n",
    "    pool1 = shared_MP1(conv1)\n",
    "    conv2 = Conv2D(32, (4,4) , padding='same', activation='relu')(pool1)\n",
    "    pool2 = MaxPooling2D(pool_size=(2, 2))(conv2)\n",
    "    flatten = Flatten()(pool2)\n",
    "    dense_layer = Dense(10, activation='relu')(flatten)\n",
    "    norm_layer = Lambda(lambda  x: K.l2_normalize(x, axis=1), name='norm_layer')(dense_layer)\n",
    "    return Model(inputs=[some_input], outputs=norm_layer)"
   ]
  },
  {
   "cell_type": "code",
   "execution_count": 7,
   "metadata": {
    "collapsed": true
   },
   "outputs": [],
   "source": [
    "# define three Inputs\n",
    "a_in = Input(shape = (imhight, imwidth,3), name='anchor_input')\n",
    "p_in = Input(shape = (imhight, imwidth,3), name='positive_input')\n",
    "n_in = Input(shape = (imhight, imwidth,3), name='negative_input')"
   ]
  },
  {
   "cell_type": "code",
   "execution_count": 8,
   "metadata": {
    "collapsed": true
   },
   "outputs": [],
   "source": [
    "# for embedding\n",
    "embNet_a = make_embNet()\n",
    "embNet_p = make_embNet()\n",
    "embNet_n = make_embNet()\n",
    "\n",
    "a_emb = embNet_a(a_in)\n",
    "p_emb = embNet_p(p_in)\n",
    "n_emb = embNet_n(n_in)"
   ]
  },
  {
   "cell_type": "code",
   "execution_count": 9,
   "metadata": {
    "collapsed": true
   },
   "outputs": [],
   "source": [
    "# for embedding\n",
    "embNet_a = create_embNet()\n",
    "embNet_p = create_embNet()\n",
    "embNet_n = create_embNet()\n",
    "\n",
    "a_emb = embNet_a(a_in)\n",
    "p_emb = embNet_p(p_in)\n",
    "n_emb = embNet_n(n_in)"
   ]
  },
  {
   "cell_type": "markdown",
   "metadata": {},
   "source": [
    "### Sequentialモデルを使わない場合は下記のコメントアウトを外す"
   ]
  },
  {
   "cell_type": "code",
   "execution_count": 10,
   "metadata": {
    "collapsed": true
   },
   "outputs": [],
   "source": [
    "# # anchor \n",
    "# a_in = Input(shape = (imhight, imwidth,3), name='anchor_input')\n",
    "# conv1 = shared_Conv1(a_in)\n",
    "# pool1 = shared_MP1(conv1)\n",
    "# conv2 = Conv2D(32, (4,4) , padding='same', activation='relu')(pool1)\n",
    "# pool2 = MaxPooling2D(pool_size=(2, 2))(conv2)\n",
    "# flatten = Flatten(name='anchor_output')(pool2)\n",
    "# a_emb = Dense(1024, activation='relu')(flatten)"
   ]
  },
  {
   "cell_type": "code",
   "execution_count": 11,
   "metadata": {
    "collapsed": true
   },
   "outputs": [],
   "source": [
    "# # positive sample\n",
    "# conv1 = Conv2D(64, (4,4), padding='same', activation='relu')(p_in)\n",
    "# pool1 = MaxPooling2D(pool_size=(2, 2))(conv1)\n",
    "# # conv1 =  shared_Conv1(p_in)\n",
    "# # pool1 = shared_MP1(conv1)\n",
    "# conv2 = Conv2D(32, (4,4) , padding='same', activation='relu')(pool1)\n",
    "# pool2 = MaxPooling2D(pool_size=(2, 2))(conv2)\n",
    "# flatten = Flatten(name='anchor_output')(pool2)\n",
    "# a_emb = Dense(1024, activation='relu')(flatten)"
   ]
  },
  {
   "cell_type": "code",
   "execution_count": 12,
   "metadata": {
    "collapsed": true
   },
   "outputs": [],
   "source": [
    "# # negative sample\n",
    "# conv1 = Conv2D(64, (4,4), padding='same', activation='relu')(n_in)\n",
    "# pool1 = MaxPooling2D(pool_size=(2, 2))(conv1)\n",
    "# # conv1 =  shared_Conv1(n_in)\n",
    "# # pool1 = shared_MP1(conv1)\n",
    "# conv2 = Conv2D(32, (4,4) , padding='same', activation='relu')(pool1)\n",
    "# pool2 = MaxPooling2D(pool_size=(2, 2))(conv2)\n",
    "# flatten = Flatten(name='anchor_output')(pool2)\n",
    "# a_emb = Dense(1024, activation='relu')(flatten)"
   ]
  },
  {
   "cell_type": "markdown",
   "metadata": {},
   "source": [
    "## triplet loss計算用のLayerインスタンスをLayerクラスを継承して作成\n",
    "tensorflow --> numpy ×(error)<br>\n",
    "numpy --> tensorflow ○<br>\n",
    "triplet_lossの計算には **tensorflowの書式** を用いる。"
   ]
  },
  {
   "cell_type": "code",
   "execution_count": 13,
   "metadata": {
    "collapsed": true
   },
   "outputs": [],
   "source": [
    "class TripletLossLayer(Layer):\n",
    "    def __init__(self, alpha, **kwargs):\n",
    "        self.alpha = alpha\n",
    "        super(TripletLossLayer, self).__init__(**kwargs)\n",
    "    \n",
    "    def triplet_loss(self, inputs):\n",
    "        a, p, n = inputs\n",
    "        p_dist = K.sum(K.square(a-p), axis=-1)\n",
    "        n_dist = K.sum(K.square(a-n), axis=-1)\n",
    "        return K.sum(K.maximum(p_dist - n_dist + self.alpha, 0), axis=0)\n",
    "    \n",
    "    def call(self, inputs):\n",
    "        loss = self.triplet_loss(inputs)\n",
    "        self.add_loss(loss)\n",
    "        return loss\n",
    "    \n",
    "    def get_config(self):\n",
    "        config = {'alpha': self.alpha}\n",
    "        base_config = super(TripletLossLayer, self).get_config()\n",
    "        return dict(list(base_config.items()) + list(config.items()))"
   ]
  },
  {
   "cell_type": "markdown",
   "metadata": {},
   "source": [
    "・ numpy配列のリスト、**[a_emb,p_emb,n_emb]のtriplet**を入力とするレイヤーを定義<br>\n",
    "・ LayerインスタンスとしてModelの中に組み込む<br>\n",
    "・ Inputインスタンスを指定すると、emb(埋込)までを認識してくれる。"
   ]
  },
  {
   "cell_type": "code",
   "execution_count": 30,
   "metadata": {
    "collapsed": true
   },
   "outputs": [],
   "source": [
    "# Layer that computes the triplet loss from anchor, positive and negative embedding vectors\n",
    "triplet_loss_layer = TripletLossLayer(alpha=ALPHA, name='triplet_loss_layer')([a_emb, p_emb, n_emb])\n",
    "\n",
    "# Model that can be trained with anchor, positive negative images\n",
    "tripletNet = Model([a_in, p_in, n_in], triplet_loss_layer)"
   ]
  },
  {
   "cell_type": "markdown",
   "metadata": {},
   "source": [
    "## ネットワーク構造の可視化"
   ]
  },
  {
   "cell_type": "code",
   "execution_count": 20,
   "metadata": {
    "scrolled": false
   },
   "outputs": [
    {
     "data": {
      "image/svg+xml": [
       "<svg height=\"221pt\" viewBox=\"0.00 0.00 815.00 221.00\" width=\"815pt\" xmlns=\"http://www.w3.org/2000/svg\" xmlns:xlink=\"http://www.w3.org/1999/xlink\">\n",
       "<g class=\"graph\" id=\"graph0\" transform=\"scale(1 1) rotate(0) translate(4 217)\">\n",
       "<title>G</title>\n",
       "<polygon fill=\"white\" points=\"-4,4 -4,-217 811,-217 811,4 -4,4\" stroke=\"none\"/>\n",
       "<!-- 139999664684056 -->\n",
       "<g class=\"node\" id=\"node1\"><title>139999664684056</title>\n",
       "<polygon fill=\"none\" points=\"0,-166.5 0,-212.5 257,-212.5 257,-166.5 0,-166.5\" stroke=\"black\"/>\n",
       "<text font-family=\"Times,serif\" font-size=\"14.00\" text-anchor=\"middle\" x=\"38.5\" y=\"-185.8\">InputLayer</text>\n",
       "<polyline fill=\"none\" points=\"77,-166.5 77,-212.5 \" stroke=\"black\"/>\n",
       "<text font-family=\"Times,serif\" font-size=\"14.00\" text-anchor=\"middle\" x=\"104.5\" y=\"-197.3\">input:</text>\n",
       "<polyline fill=\"none\" points=\"77,-189.5 132,-189.5 \" stroke=\"black\"/>\n",
       "<text font-family=\"Times,serif\" font-size=\"14.00\" text-anchor=\"middle\" x=\"104.5\" y=\"-174.3\">output:</text>\n",
       "<polyline fill=\"none\" points=\"132,-166.5 132,-212.5 \" stroke=\"black\"/>\n",
       "<text font-family=\"Times,serif\" font-size=\"14.00\" text-anchor=\"middle\" x=\"194.5\" y=\"-197.3\">(None, 128, 128, 3)</text>\n",
       "<polyline fill=\"none\" points=\"132,-189.5 257,-189.5 \" stroke=\"black\"/>\n",
       "<text font-family=\"Times,serif\" font-size=\"14.00\" text-anchor=\"middle\" x=\"194.5\" y=\"-174.3\">(None, 128, 128, 3)</text>\n",
       "</g>\n",
       "<!-- 139999653096864 -->\n",
       "<g class=\"node\" id=\"node4\"><title>139999653096864</title>\n",
       "<polygon fill=\"none\" points=\"24,-83.5 24,-129.5 257,-129.5 257,-83.5 24,-83.5\" stroke=\"black\"/>\n",
       "<text font-family=\"Times,serif\" font-size=\"14.00\" text-anchor=\"middle\" x=\"50.5\" y=\"-102.8\">Model</text>\n",
       "<polyline fill=\"none\" points=\"77,-83.5 77,-129.5 \" stroke=\"black\"/>\n",
       "<text font-family=\"Times,serif\" font-size=\"14.00\" text-anchor=\"middle\" x=\"104.5\" y=\"-114.3\">input:</text>\n",
       "<polyline fill=\"none\" points=\"77,-106.5 132,-106.5 \" stroke=\"black\"/>\n",
       "<text font-family=\"Times,serif\" font-size=\"14.00\" text-anchor=\"middle\" x=\"104.5\" y=\"-91.3\">output:</text>\n",
       "<polyline fill=\"none\" points=\"132,-83.5 132,-129.5 \" stroke=\"black\"/>\n",
       "<text font-family=\"Times,serif\" font-size=\"14.00\" text-anchor=\"middle\" x=\"194.5\" y=\"-114.3\">(None, 128, 128, 3)</text>\n",
       "<polyline fill=\"none\" points=\"132,-106.5 257,-106.5 \" stroke=\"black\"/>\n",
       "<text font-family=\"Times,serif\" font-size=\"14.00\" text-anchor=\"middle\" x=\"194.5\" y=\"-91.3\">(None, 10)</text>\n",
       "</g>\n",
       "<!-- 139999664684056&#45;&gt;139999653096864 -->\n",
       "<g class=\"edge\" id=\"edge1\"><title>139999664684056-&gt;139999653096864</title>\n",
       "<path d=\"M131.779,-166.366C132.996,-158.152 134.403,-148.658 135.726,-139.725\" fill=\"none\" stroke=\"black\"/>\n",
       "<polygon fill=\"black\" points=\"139.222,-140.012 137.225,-129.607 132.297,-138.986 139.222,-140.012\" stroke=\"black\"/>\n",
       "</g>\n",
       "<!-- 139999664684168 -->\n",
       "<g class=\"node\" id=\"node2\"><title>139999664684168</title>\n",
       "<polygon fill=\"none\" points=\"275,-166.5 275,-212.5 532,-212.5 532,-166.5 275,-166.5\" stroke=\"black\"/>\n",
       "<text font-family=\"Times,serif\" font-size=\"14.00\" text-anchor=\"middle\" x=\"313.5\" y=\"-185.8\">InputLayer</text>\n",
       "<polyline fill=\"none\" points=\"352,-166.5 352,-212.5 \" stroke=\"black\"/>\n",
       "<text font-family=\"Times,serif\" font-size=\"14.00\" text-anchor=\"middle\" x=\"379.5\" y=\"-197.3\">input:</text>\n",
       "<polyline fill=\"none\" points=\"352,-189.5 407,-189.5 \" stroke=\"black\"/>\n",
       "<text font-family=\"Times,serif\" font-size=\"14.00\" text-anchor=\"middle\" x=\"379.5\" y=\"-174.3\">output:</text>\n",
       "<polyline fill=\"none\" points=\"407,-166.5 407,-212.5 \" stroke=\"black\"/>\n",
       "<text font-family=\"Times,serif\" font-size=\"14.00\" text-anchor=\"middle\" x=\"469.5\" y=\"-197.3\">(None, 128, 128, 3)</text>\n",
       "<polyline fill=\"none\" points=\"407,-189.5 532,-189.5 \" stroke=\"black\"/>\n",
       "<text font-family=\"Times,serif\" font-size=\"14.00\" text-anchor=\"middle\" x=\"469.5\" y=\"-174.3\">(None, 128, 128, 3)</text>\n",
       "</g>\n",
       "<!-- 139999652179416 -->\n",
       "<g class=\"node\" id=\"node5\"><title>139999652179416</title>\n",
       "<polygon fill=\"none\" points=\"287,-83.5 287,-129.5 520,-129.5 520,-83.5 287,-83.5\" stroke=\"black\"/>\n",
       "<text font-family=\"Times,serif\" font-size=\"14.00\" text-anchor=\"middle\" x=\"313.5\" y=\"-102.8\">Model</text>\n",
       "<polyline fill=\"none\" points=\"340,-83.5 340,-129.5 \" stroke=\"black\"/>\n",
       "<text font-family=\"Times,serif\" font-size=\"14.00\" text-anchor=\"middle\" x=\"367.5\" y=\"-114.3\">input:</text>\n",
       "<polyline fill=\"none\" points=\"340,-106.5 395,-106.5 \" stroke=\"black\"/>\n",
       "<text font-family=\"Times,serif\" font-size=\"14.00\" text-anchor=\"middle\" x=\"367.5\" y=\"-91.3\">output:</text>\n",
       "<polyline fill=\"none\" points=\"395,-83.5 395,-129.5 \" stroke=\"black\"/>\n",
       "<text font-family=\"Times,serif\" font-size=\"14.00\" text-anchor=\"middle\" x=\"457.5\" y=\"-114.3\">(None, 128, 128, 3)</text>\n",
       "<polyline fill=\"none\" points=\"395,-106.5 520,-106.5 \" stroke=\"black\"/>\n",
       "<text font-family=\"Times,serif\" font-size=\"14.00\" text-anchor=\"middle\" x=\"457.5\" y=\"-91.3\">(None, 10)</text>\n",
       "</g>\n",
       "<!-- 139999664684168&#45;&gt;139999652179416 -->\n",
       "<g class=\"edge\" id=\"edge2\"><title>139999664684168-&gt;139999652179416</title>\n",
       "<path d=\"M403.5,-166.366C403.5,-158.152 403.5,-148.658 403.5,-139.725\" fill=\"none\" stroke=\"black\"/>\n",
       "<polygon fill=\"black\" points=\"407,-139.607 403.5,-129.607 400,-139.607 407,-139.607\" stroke=\"black\"/>\n",
       "</g>\n",
       "<!-- 139999664685008 -->\n",
       "<g class=\"node\" id=\"node3\"><title>139999664685008</title>\n",
       "<polygon fill=\"none\" points=\"550,-166.5 550,-212.5 807,-212.5 807,-166.5 550,-166.5\" stroke=\"black\"/>\n",
       "<text font-family=\"Times,serif\" font-size=\"14.00\" text-anchor=\"middle\" x=\"588.5\" y=\"-185.8\">InputLayer</text>\n",
       "<polyline fill=\"none\" points=\"627,-166.5 627,-212.5 \" stroke=\"black\"/>\n",
       "<text font-family=\"Times,serif\" font-size=\"14.00\" text-anchor=\"middle\" x=\"654.5\" y=\"-197.3\">input:</text>\n",
       "<polyline fill=\"none\" points=\"627,-189.5 682,-189.5 \" stroke=\"black\"/>\n",
       "<text font-family=\"Times,serif\" font-size=\"14.00\" text-anchor=\"middle\" x=\"654.5\" y=\"-174.3\">output:</text>\n",
       "<polyline fill=\"none\" points=\"682,-166.5 682,-212.5 \" stroke=\"black\"/>\n",
       "<text font-family=\"Times,serif\" font-size=\"14.00\" text-anchor=\"middle\" x=\"744.5\" y=\"-197.3\">(None, 128, 128, 3)</text>\n",
       "<polyline fill=\"none\" points=\"682,-189.5 807,-189.5 \" stroke=\"black\"/>\n",
       "<text font-family=\"Times,serif\" font-size=\"14.00\" text-anchor=\"middle\" x=\"744.5\" y=\"-174.3\">(None, 128, 128, 3)</text>\n",
       "</g>\n",
       "<!-- 139999651711128 -->\n",
       "<g class=\"node\" id=\"node6\"><title>139999651711128</title>\n",
       "<polygon fill=\"none\" points=\"550,-83.5 550,-129.5 783,-129.5 783,-83.5 550,-83.5\" stroke=\"black\"/>\n",
       "<text font-family=\"Times,serif\" font-size=\"14.00\" text-anchor=\"middle\" x=\"576.5\" y=\"-102.8\">Model</text>\n",
       "<polyline fill=\"none\" points=\"603,-83.5 603,-129.5 \" stroke=\"black\"/>\n",
       "<text font-family=\"Times,serif\" font-size=\"14.00\" text-anchor=\"middle\" x=\"630.5\" y=\"-114.3\">input:</text>\n",
       "<polyline fill=\"none\" points=\"603,-106.5 658,-106.5 \" stroke=\"black\"/>\n",
       "<text font-family=\"Times,serif\" font-size=\"14.00\" text-anchor=\"middle\" x=\"630.5\" y=\"-91.3\">output:</text>\n",
       "<polyline fill=\"none\" points=\"658,-83.5 658,-129.5 \" stroke=\"black\"/>\n",
       "<text font-family=\"Times,serif\" font-size=\"14.00\" text-anchor=\"middle\" x=\"720.5\" y=\"-114.3\">(None, 128, 128, 3)</text>\n",
       "<polyline fill=\"none\" points=\"658,-106.5 783,-106.5 \" stroke=\"black\"/>\n",
       "<text font-family=\"Times,serif\" font-size=\"14.00\" text-anchor=\"middle\" x=\"720.5\" y=\"-91.3\">(None, 10)</text>\n",
       "</g>\n",
       "<!-- 139999664685008&#45;&gt;139999651711128 -->\n",
       "<g class=\"edge\" id=\"edge3\"><title>139999664685008-&gt;139999651711128</title>\n",
       "<path d=\"M675.221,-166.366C674.004,-158.152 672.597,-148.658 671.274,-139.725\" fill=\"none\" stroke=\"black\"/>\n",
       "<polygon fill=\"black\" points=\"674.703,-138.986 669.775,-129.607 667.778,-140.012 674.703,-138.986\" stroke=\"black\"/>\n",
       "</g>\n",
       "<!-- 139998891327728 -->\n",
       "<g class=\"node\" id=\"node7\"><title>139998891327728</title>\n",
       "<polygon fill=\"none\" points=\"212,-0.5 212,-46.5 595,-46.5 595,-0.5 212,-0.5\" stroke=\"black\"/>\n",
       "<text font-family=\"Times,serif\" font-size=\"14.00\" text-anchor=\"middle\" x=\"267\" y=\"-19.8\">TripletLossLayer</text>\n",
       "<polyline fill=\"none\" points=\"322,-0.5 322,-46.5 \" stroke=\"black\"/>\n",
       "<text font-family=\"Times,serif\" font-size=\"14.00\" text-anchor=\"middle\" x=\"349.5\" y=\"-31.3\">input:</text>\n",
       "<polyline fill=\"none\" points=\"322,-23.5 377,-23.5 \" stroke=\"black\"/>\n",
       "<text font-family=\"Times,serif\" font-size=\"14.00\" text-anchor=\"middle\" x=\"349.5\" y=\"-8.3\">output:</text>\n",
       "<polyline fill=\"none\" points=\"377,-0.5 377,-46.5 \" stroke=\"black\"/>\n",
       "<text font-family=\"Times,serif\" font-size=\"14.00\" text-anchor=\"middle\" x=\"486\" y=\"-31.3\">[(None, 10), (None, 10), (None, 10)]</text>\n",
       "<polyline fill=\"none\" points=\"377,-23.5 595,-23.5 \" stroke=\"black\"/>\n",
       "<text font-family=\"Times,serif\" font-size=\"14.00\" text-anchor=\"middle\" x=\"486\" y=\"-8.3\">[(None, 10), (None, 10), (None, 10)]</text>\n",
       "</g>\n",
       "<!-- 139999653096864&#45;&gt;139998891327728 -->\n",
       "<g class=\"edge\" id=\"edge4\"><title>139999653096864-&gt;139998891327728</title>\n",
       "<path d=\"M212.019,-83.4734C246.082,-72.9822 286.981,-60.3862 322.218,-49.5337\" fill=\"none\" stroke=\"black\"/>\n",
       "<polygon fill=\"black\" points=\"323.469,-52.8107 331.996,-46.5222 321.409,-46.1208 323.469,-52.8107\" stroke=\"black\"/>\n",
       "</g>\n",
       "<!-- 139999652179416&#45;&gt;139998891327728 -->\n",
       "<g class=\"edge\" id=\"edge5\"><title>139999652179416-&gt;139998891327728</title>\n",
       "<path d=\"M403.5,-83.3664C403.5,-75.1516 403.5,-65.6579 403.5,-56.7252\" fill=\"none\" stroke=\"black\"/>\n",
       "<polygon fill=\"black\" points=\"407,-56.6068 403.5,-46.6068 400,-56.6069 407,-56.6068\" stroke=\"black\"/>\n",
       "</g>\n",
       "<!-- 139999651711128&#45;&gt;139998891327728 -->\n",
       "<g class=\"edge\" id=\"edge6\"><title>139999651711128-&gt;139998891327728</title>\n",
       "<path d=\"M594.981,-83.4734C560.918,-72.9822 520.019,-60.3862 484.782,-49.5337\" fill=\"none\" stroke=\"black\"/>\n",
       "<polygon fill=\"black\" points=\"485.591,-46.1208 475.004,-46.5222 483.531,-52.8107 485.591,-46.1208\" stroke=\"black\"/>\n",
       "</g>\n",
       "</g>\n",
       "</svg>"
      ],
      "text/plain": [
       "<IPython.core.display.SVG object>"
      ]
     },
     "execution_count": 20,
     "metadata": {},
     "output_type": "execute_result"
    }
   ],
   "source": [
    "# 画像として出力\n",
    "plot_model(tripletNet, show_shapes=True,  show_layer_names=False, to_file='./sup/tripletNetWithSequential.png')\n",
    "# Jupyter上に構造を出力\n",
    "from IPython.display import SVG\n",
    "from keras.utils.vis_utils import model_to_dot\n",
    "\n",
    "SVG(model_to_dot(tripletNet, show_shapes=True, show_layer_names=False).create(prog='dot', format='svg'))"
   ]
  },
  {
   "cell_type": "code",
   "execution_count": 21,
   "metadata": {},
   "outputs": [
    {
     "data": {
      "image/svg+xml": [
       "<svg height=\"636pt\" viewBox=\"0.00 0.00 295.00 636.00\" width=\"295pt\" xmlns=\"http://www.w3.org/2000/svg\" xmlns:xlink=\"http://www.w3.org/1999/xlink\">\n",
       "<g class=\"graph\" id=\"graph0\" transform=\"scale(1 1) rotate(0) translate(4 632)\">\n",
       "<title>G</title>\n",
       "<polygon fill=\"white\" points=\"-4,4 -4,-632 291,-632 291,4 -4,4\" stroke=\"none\"/>\n",
       "<!-- 139999657638656 -->\n",
       "<g class=\"node\" id=\"node1\"><title>139999657638656</title>\n",
       "<polygon fill=\"none\" points=\"15,-581.5 15,-627.5 272,-627.5 272,-581.5 15,-581.5\" stroke=\"black\"/>\n",
       "<text font-family=\"Times,serif\" font-size=\"14.00\" text-anchor=\"middle\" x=\"53.5\" y=\"-600.8\">InputLayer</text>\n",
       "<polyline fill=\"none\" points=\"92,-581.5 92,-627.5 \" stroke=\"black\"/>\n",
       "<text font-family=\"Times,serif\" font-size=\"14.00\" text-anchor=\"middle\" x=\"119.5\" y=\"-612.3\">input:</text>\n",
       "<polyline fill=\"none\" points=\"92,-604.5 147,-604.5 \" stroke=\"black\"/>\n",
       "<text font-family=\"Times,serif\" font-size=\"14.00\" text-anchor=\"middle\" x=\"119.5\" y=\"-589.3\">output:</text>\n",
       "<polyline fill=\"none\" points=\"147,-581.5 147,-627.5 \" stroke=\"black\"/>\n",
       "<text font-family=\"Times,serif\" font-size=\"14.00\" text-anchor=\"middle\" x=\"209.5\" y=\"-612.3\">(None, 128, 128, 3)</text>\n",
       "<polyline fill=\"none\" points=\"147,-604.5 272,-604.5 \" stroke=\"black\"/>\n",
       "<text font-family=\"Times,serif\" font-size=\"14.00\" text-anchor=\"middle\" x=\"209.5\" y=\"-589.3\">(None, 128, 128, 3)</text>\n",
       "</g>\n",
       "<!-- 139999664683048 -->\n",
       "<g class=\"node\" id=\"node2\"><title>139999664683048</title>\n",
       "<polygon fill=\"none\" points=\"19.5,-498.5 19.5,-544.5 267.5,-544.5 267.5,-498.5 19.5,-498.5\" stroke=\"black\"/>\n",
       "<text font-family=\"Times,serif\" font-size=\"14.00\" text-anchor=\"middle\" x=\"50.5\" y=\"-517.8\">Conv2D</text>\n",
       "<polyline fill=\"none\" points=\"81.5,-498.5 81.5,-544.5 \" stroke=\"black\"/>\n",
       "<text font-family=\"Times,serif\" font-size=\"14.00\" text-anchor=\"middle\" x=\"109\" y=\"-529.3\">input:</text>\n",
       "<polyline fill=\"none\" points=\"81.5,-521.5 136.5,-521.5 \" stroke=\"black\"/>\n",
       "<text font-family=\"Times,serif\" font-size=\"14.00\" text-anchor=\"middle\" x=\"109\" y=\"-506.3\">output:</text>\n",
       "<polyline fill=\"none\" points=\"136.5,-498.5 136.5,-544.5 \" stroke=\"black\"/>\n",
       "<text font-family=\"Times,serif\" font-size=\"14.00\" text-anchor=\"middle\" x=\"202\" y=\"-529.3\">(None, 128, 128, 3)</text>\n",
       "<polyline fill=\"none\" points=\"136.5,-521.5 267.5,-521.5 \" stroke=\"black\"/>\n",
       "<text font-family=\"Times,serif\" font-size=\"14.00\" text-anchor=\"middle\" x=\"202\" y=\"-506.3\">(None, 128, 128, 64)</text>\n",
       "</g>\n",
       "<!-- 139999657638656&#45;&gt;139999664683048 -->\n",
       "<g class=\"edge\" id=\"edge1\"><title>139999657638656-&gt;139999664683048</title>\n",
       "<path d=\"M143.5,-581.366C143.5,-573.152 143.5,-563.658 143.5,-554.725\" fill=\"none\" stroke=\"black\"/>\n",
       "<polygon fill=\"black\" points=\"147,-554.607 143.5,-544.607 140,-554.607 147,-554.607\" stroke=\"black\"/>\n",
       "</g>\n",
       "<!-- 139999664683664 -->\n",
       "<g class=\"node\" id=\"node3\"><title>139999664683664</title>\n",
       "<polygon fill=\"none\" points=\"0,-415.5 0,-461.5 287,-461.5 287,-415.5 0,-415.5\" stroke=\"black\"/>\n",
       "<text font-family=\"Times,serif\" font-size=\"14.00\" text-anchor=\"middle\" x=\"50.5\" y=\"-434.8\">MaxPooling2D</text>\n",
       "<polyline fill=\"none\" points=\"101,-415.5 101,-461.5 \" stroke=\"black\"/>\n",
       "<text font-family=\"Times,serif\" font-size=\"14.00\" text-anchor=\"middle\" x=\"128.5\" y=\"-446.3\">input:</text>\n",
       "<polyline fill=\"none\" points=\"101,-438.5 156,-438.5 \" stroke=\"black\"/>\n",
       "<text font-family=\"Times,serif\" font-size=\"14.00\" text-anchor=\"middle\" x=\"128.5\" y=\"-423.3\">output:</text>\n",
       "<polyline fill=\"none\" points=\"156,-415.5 156,-461.5 \" stroke=\"black\"/>\n",
       "<text font-family=\"Times,serif\" font-size=\"14.00\" text-anchor=\"middle\" x=\"221.5\" y=\"-446.3\">(None, 128, 128, 64)</text>\n",
       "<polyline fill=\"none\" points=\"156,-438.5 287,-438.5 \" stroke=\"black\"/>\n",
       "<text font-family=\"Times,serif\" font-size=\"14.00\" text-anchor=\"middle\" x=\"221.5\" y=\"-423.3\">(None, 64, 64, 64)</text>\n",
       "</g>\n",
       "<!-- 139999664683048&#45;&gt;139999664683664 -->\n",
       "<g class=\"edge\" id=\"edge2\"><title>139999664683048-&gt;139999664683664</title>\n",
       "<path d=\"M143.5,-498.366C143.5,-490.152 143.5,-480.658 143.5,-471.725\" fill=\"none\" stroke=\"black\"/>\n",
       "<polygon fill=\"black\" points=\"147,-471.607 143.5,-461.607 140,-471.607 147,-471.607\" stroke=\"black\"/>\n",
       "</g>\n",
       "<!-- 139999653145680 -->\n",
       "<g class=\"node\" id=\"node4\"><title>139999653145680</title>\n",
       "<polygon fill=\"none\" points=\"26,-332.5 26,-378.5 261,-378.5 261,-332.5 26,-332.5\" stroke=\"black\"/>\n",
       "<text font-family=\"Times,serif\" font-size=\"14.00\" text-anchor=\"middle\" x=\"57\" y=\"-351.8\">Conv2D</text>\n",
       "<polyline fill=\"none\" points=\"88,-332.5 88,-378.5 \" stroke=\"black\"/>\n",
       "<text font-family=\"Times,serif\" font-size=\"14.00\" text-anchor=\"middle\" x=\"115.5\" y=\"-363.3\">input:</text>\n",
       "<polyline fill=\"none\" points=\"88,-355.5 143,-355.5 \" stroke=\"black\"/>\n",
       "<text font-family=\"Times,serif\" font-size=\"14.00\" text-anchor=\"middle\" x=\"115.5\" y=\"-340.3\">output:</text>\n",
       "<polyline fill=\"none\" points=\"143,-332.5 143,-378.5 \" stroke=\"black\"/>\n",
       "<text font-family=\"Times,serif\" font-size=\"14.00\" text-anchor=\"middle\" x=\"202\" y=\"-363.3\">(None, 64, 64, 64)</text>\n",
       "<polyline fill=\"none\" points=\"143,-355.5 261,-355.5 \" stroke=\"black\"/>\n",
       "<text font-family=\"Times,serif\" font-size=\"14.00\" text-anchor=\"middle\" x=\"202\" y=\"-340.3\">(None, 64, 64, 32)</text>\n",
       "</g>\n",
       "<!-- 139999664683664&#45;&gt;139999653145680 -->\n",
       "<g class=\"edge\" id=\"edge3\"><title>139999664683664-&gt;139999653145680</title>\n",
       "<path d=\"M143.5,-415.366C143.5,-407.152 143.5,-397.658 143.5,-388.725\" fill=\"none\" stroke=\"black\"/>\n",
       "<polygon fill=\"black\" points=\"147,-388.607 143.5,-378.607 140,-388.607 147,-388.607\" stroke=\"black\"/>\n",
       "</g>\n",
       "<!-- 139999654774040 -->\n",
       "<g class=\"node\" id=\"node5\"><title>139999654774040</title>\n",
       "<polygon fill=\"none\" points=\"6.5,-249.5 6.5,-295.5 280.5,-295.5 280.5,-249.5 6.5,-249.5\" stroke=\"black\"/>\n",
       "<text font-family=\"Times,serif\" font-size=\"14.00\" text-anchor=\"middle\" x=\"57\" y=\"-268.8\">MaxPooling2D</text>\n",
       "<polyline fill=\"none\" points=\"107.5,-249.5 107.5,-295.5 \" stroke=\"black\"/>\n",
       "<text font-family=\"Times,serif\" font-size=\"14.00\" text-anchor=\"middle\" x=\"135\" y=\"-280.3\">input:</text>\n",
       "<polyline fill=\"none\" points=\"107.5,-272.5 162.5,-272.5 \" stroke=\"black\"/>\n",
       "<text font-family=\"Times,serif\" font-size=\"14.00\" text-anchor=\"middle\" x=\"135\" y=\"-257.3\">output:</text>\n",
       "<polyline fill=\"none\" points=\"162.5,-249.5 162.5,-295.5 \" stroke=\"black\"/>\n",
       "<text font-family=\"Times,serif\" font-size=\"14.00\" text-anchor=\"middle\" x=\"221.5\" y=\"-280.3\">(None, 64, 64, 32)</text>\n",
       "<polyline fill=\"none\" points=\"162.5,-272.5 280.5,-272.5 \" stroke=\"black\"/>\n",
       "<text font-family=\"Times,serif\" font-size=\"14.00\" text-anchor=\"middle\" x=\"221.5\" y=\"-257.3\">(None, 32, 32, 32)</text>\n",
       "</g>\n",
       "<!-- 139999653145680&#45;&gt;139999654774040 -->\n",
       "<g class=\"edge\" id=\"edge4\"><title>139999653145680-&gt;139999654774040</title>\n",
       "<path d=\"M143.5,-332.366C143.5,-324.152 143.5,-314.658 143.5,-305.725\" fill=\"none\" stroke=\"black\"/>\n",
       "<polygon fill=\"black\" points=\"147,-305.607 143.5,-295.607 140,-305.607 147,-305.607\" stroke=\"black\"/>\n",
       "</g>\n",
       "<!-- 139999653259808 -->\n",
       "<g class=\"node\" id=\"node6\"><title>139999653259808</title>\n",
       "<polygon fill=\"none\" points=\"30,-166.5 30,-212.5 257,-212.5 257,-166.5 30,-166.5\" stroke=\"black\"/>\n",
       "<text font-family=\"Times,serif\" font-size=\"14.00\" text-anchor=\"middle\" x=\"57\" y=\"-185.8\">Flatten</text>\n",
       "<polyline fill=\"none\" points=\"84,-166.5 84,-212.5 \" stroke=\"black\"/>\n",
       "<text font-family=\"Times,serif\" font-size=\"14.00\" text-anchor=\"middle\" x=\"111.5\" y=\"-197.3\">input:</text>\n",
       "<polyline fill=\"none\" points=\"84,-189.5 139,-189.5 \" stroke=\"black\"/>\n",
       "<text font-family=\"Times,serif\" font-size=\"14.00\" text-anchor=\"middle\" x=\"111.5\" y=\"-174.3\">output:</text>\n",
       "<polyline fill=\"none\" points=\"139,-166.5 139,-212.5 \" stroke=\"black\"/>\n",
       "<text font-family=\"Times,serif\" font-size=\"14.00\" text-anchor=\"middle\" x=\"198\" y=\"-197.3\">(None, 32, 32, 32)</text>\n",
       "<polyline fill=\"none\" points=\"139,-189.5 257,-189.5 \" stroke=\"black\"/>\n",
       "<text font-family=\"Times,serif\" font-size=\"14.00\" text-anchor=\"middle\" x=\"198\" y=\"-174.3\">(None, 32768)</text>\n",
       "</g>\n",
       "<!-- 139999654774040&#45;&gt;139999653259808 -->\n",
       "<g class=\"edge\" id=\"edge5\"><title>139999654774040-&gt;139999653259808</title>\n",
       "<path d=\"M143.5,-249.366C143.5,-241.152 143.5,-231.658 143.5,-222.725\" fill=\"none\" stroke=\"black\"/>\n",
       "<polygon fill=\"black\" points=\"147,-222.607 143.5,-212.607 140,-222.607 147,-222.607\" stroke=\"black\"/>\n",
       "</g>\n",
       "<!-- 139999653052936 -->\n",
       "<g class=\"node\" id=\"node7\"><title>139999653052936</title>\n",
       "<polygon fill=\"none\" points=\"43,-83.5 43,-129.5 244,-129.5 244,-83.5 43,-83.5\" stroke=\"black\"/>\n",
       "<text font-family=\"Times,serif\" font-size=\"14.00\" text-anchor=\"middle\" x=\"68\" y=\"-102.8\">Dense</text>\n",
       "<polyline fill=\"none\" points=\"93,-83.5 93,-129.5 \" stroke=\"black\"/>\n",
       "<text font-family=\"Times,serif\" font-size=\"14.00\" text-anchor=\"middle\" x=\"120.5\" y=\"-114.3\">input:</text>\n",
       "<polyline fill=\"none\" points=\"93,-106.5 148,-106.5 \" stroke=\"black\"/>\n",
       "<text font-family=\"Times,serif\" font-size=\"14.00\" text-anchor=\"middle\" x=\"120.5\" y=\"-91.3\">output:</text>\n",
       "<polyline fill=\"none\" points=\"148,-83.5 148,-129.5 \" stroke=\"black\"/>\n",
       "<text font-family=\"Times,serif\" font-size=\"14.00\" text-anchor=\"middle\" x=\"196\" y=\"-114.3\">(None, 32768)</text>\n",
       "<polyline fill=\"none\" points=\"148,-106.5 244,-106.5 \" stroke=\"black\"/>\n",
       "<text font-family=\"Times,serif\" font-size=\"14.00\" text-anchor=\"middle\" x=\"196\" y=\"-91.3\">(None, 10)</text>\n",
       "</g>\n",
       "<!-- 139999653259808&#45;&gt;139999653052936 -->\n",
       "<g class=\"edge\" id=\"edge6\"><title>139999653259808-&gt;139999653052936</title>\n",
       "<path d=\"M143.5,-166.366C143.5,-158.152 143.5,-148.658 143.5,-139.725\" fill=\"none\" stroke=\"black\"/>\n",
       "<polygon fill=\"black\" points=\"147,-139.607 143.5,-129.607 140,-139.607 147,-139.607\" stroke=\"black\"/>\n",
       "</g>\n",
       "<!-- 139999653136088 -->\n",
       "<g class=\"node\" id=\"node8\"><title>139999653136088</title>\n",
       "<polygon fill=\"none\" points=\"47,-0.5 47,-46.5 240,-46.5 240,-0.5 47,-0.5\" stroke=\"black\"/>\n",
       "<text font-family=\"Times,serif\" font-size=\"14.00\" text-anchor=\"middle\" x=\"78\" y=\"-19.8\">Lambda</text>\n",
       "<polyline fill=\"none\" points=\"109,-0.5 109,-46.5 \" stroke=\"black\"/>\n",
       "<text font-family=\"Times,serif\" font-size=\"14.00\" text-anchor=\"middle\" x=\"136.5\" y=\"-31.3\">input:</text>\n",
       "<polyline fill=\"none\" points=\"109,-23.5 164,-23.5 \" stroke=\"black\"/>\n",
       "<text font-family=\"Times,serif\" font-size=\"14.00\" text-anchor=\"middle\" x=\"136.5\" y=\"-8.3\">output:</text>\n",
       "<polyline fill=\"none\" points=\"164,-0.5 164,-46.5 \" stroke=\"black\"/>\n",
       "<text font-family=\"Times,serif\" font-size=\"14.00\" text-anchor=\"middle\" x=\"202\" y=\"-31.3\">(None, 10)</text>\n",
       "<polyline fill=\"none\" points=\"164,-23.5 240,-23.5 \" stroke=\"black\"/>\n",
       "<text font-family=\"Times,serif\" font-size=\"14.00\" text-anchor=\"middle\" x=\"202\" y=\"-8.3\">(None, 10)</text>\n",
       "</g>\n",
       "<!-- 139999653052936&#45;&gt;139999653136088 -->\n",
       "<g class=\"edge\" id=\"edge7\"><title>139999653052936-&gt;139999653136088</title>\n",
       "<path d=\"M143.5,-83.3664C143.5,-75.1516 143.5,-65.6579 143.5,-56.7252\" fill=\"none\" stroke=\"black\"/>\n",
       "<polygon fill=\"black\" points=\"147,-56.6068 143.5,-46.6068 140,-56.6069 147,-56.6068\" stroke=\"black\"/>\n",
       "</g>\n",
       "</g>\n",
       "</svg>"
      ],
      "text/plain": [
       "<IPython.core.display.SVG object>"
      ]
     },
     "execution_count": 21,
     "metadata": {},
     "output_type": "execute_result"
    }
   ],
   "source": [
    "# plot embNet\n",
    "plot_model(embNet_a, show_shapes=True,  show_layer_names=False, to_file='./sup/embNet.png')\n",
    "SVG(model_to_dot(embNet_a, show_shapes=True, show_layer_names=False).create(prog='dot', format='svg'))"
   ]
  },
  {
   "cell_type": "markdown",
   "metadata": {},
   "source": [
    "## --------------------------------------\n",
    "## (確認済)動作確認"
   ]
  },
  {
   "cell_type": "code",
   "execution_count": 17,
   "metadata": {
    "collapsed": true
   },
   "outputs": [],
   "source": [
    "# sample data\n",
    "# data_gen.pyからtriplet_generatorを読み込んでsample生成\n",
    "from data_gen import triplet_generator\n",
    "generator = triplet_generator()"
   ]
  },
  {
   "cell_type": "markdown",
   "metadata": {},
   "source": [
    "### モデルのコンパイル"
   ]
  },
  {
   "cell_type": "code",
   "execution_count": 18,
   "metadata": {
    "scrolled": true
   },
   "outputs": [
    {
     "name": "stderr",
     "output_type": "stream",
     "text": [
      "/home/inouelab/.conda/envs/keras35/lib/python3.5/site-packages/ipykernel_launcher.py:1: UserWarning: Output \"triplet_loss_layer\" missing from loss dictionary. We assume this was done on purpose, and we will not be expecting any data to be passed to \"triplet_loss_layer\" during training.\n",
      "  \"\"\"Entry point for launching an IPython kernel.\n"
     ]
    }
   ],
   "source": [
    "tripletNet.compile(loss=None, optimizer='adam')\n",
    "# tripletNet.fit_generator(generator=generator, epochs=10, steps_per_epoch=100)"
   ]
  },
  {
   "cell_type": "code",
   "execution_count": 19,
   "metadata": {
    "collapsed": true
   },
   "outputs": [],
   "source": [
    "import numpy as np\n",
    "a_batch = np.random.rand(4, 128, 128, 3)\n",
    "p_batch = np.random.rand(4, 128, 128, 3)\n",
    "n_batch = np.random.rand(4, 128, 128, 3)\n",
    "\n",
    "x = [a_batch,p_batch,n_batch]"
   ]
  },
  {
   "cell_type": "code",
   "execution_count": 20,
   "metadata": {
    "collapsed": true,
    "scrolled": false
   },
   "outputs": [],
   "source": [
    "# tripletNet=tripletNet.fit(x, epochs=1, steps_per_epoch=100)"
   ]
  },
  {
   "cell_type": "code",
   "execution_count": 21,
   "metadata": {},
   "outputs": [
    {
     "data": {
      "text/plain": [
       "(3, 4, 128, 128, 3)"
      ]
     },
     "execution_count": 21,
     "metadata": {},
     "output_type": "execute_result"
    }
   ],
   "source": [
    "np.array(x).shape"
   ]
  },
  {
   "cell_type": "markdown",
   "metadata": {},
   "source": [
    "## 簡単なデータセットで実験してみる\n",
    "いきなりDeepFashionのデータを扱うのではなく、より簡単な画像で実験する。<br>\n",
    "<del>アニメのキャラ画像でやる。</del><br>\n",
    "乃木坂の画像でやる。"
   ]
  },
  {
   "cell_type": "markdown",
   "metadata": {},
   "source": [
    "## 乃木坂の画像をnumpy配列に変更。"
   ]
  },
  {
   "cell_type": "code",
   "execution_count": 22,
   "metadata": {
    "collapsed": true
   },
   "outputs": [],
   "source": [
    "import os\n",
    "from keras.preprocessing.image import array_to_img, img_to_array, list_pictures, load_img # keras library for image to array"
   ]
  },
  {
   "cell_type": "code",
   "execution_count": 23,
   "metadata": {},
   "outputs": [
    {
     "data": {
      "text/plain": [
       "['the_others', 'nishino', 'test', 'shiraishi', 'akimoto', 'ikuta', '.DS_Store']"
      ]
     },
     "execution_count": 23,
     "metadata": {},
     "output_type": "execute_result"
    }
   ],
   "source": [
    "# check dataset\n",
    "os.listdir('nogi_imgs/') "
   ]
  },
  {
   "cell_type": "code",
   "execution_count": 24,
   "metadata": {
    "scrolled": true
   },
   "outputs": [
    {
     "data": {
      "image/png": "[encoded data removed]",
      "text/plain": [
       "<matplotlib.figure.Figure at 0x7f6fc3599da0>"
      ]
     },
     "metadata": {},
     "output_type": "display_data"
    }
   ],
   "source": [
    "# load_imgを用いるとRGBがおかしくなる？\n",
    "temp_img = load_img('./nogi_imgs/shiraishi/inputImage2_0.png', target_size=(64,64))\n",
    "temp_img_array  = img_to_array(temp_img)\n",
    "plt.imshow(temp_img_array)\n",
    "plt.show()"
   ]
  },
  {
   "cell_type": "code",
   "execution_count": 25,
   "metadata": {
    "scrolled": false
   },
   "outputs": [
    {
     "data": {
      "image/png": "[encoded data removed]",
      "text/plain": [
       "<matplotlib.figure.Figure at 0x7f6fc34d8f60>"
      ]
     },
     "metadata": {},
     "output_type": "display_data"
    }
   ],
   "source": [
    "img = plt.imread('./nogi_imgs/shiraishi/inputImage2_0.png')\n",
    "plt.imshow(img)\n",
    "plt.show()"
   ]
  },
  {
   "cell_type": "code",
   "execution_count": 26,
   "metadata": {
    "scrolled": true
   },
   "outputs": [
    {
     "data": {
      "text/plain": [
       "numpy.ndarray"
      ]
     },
     "execution_count": 26,
     "metadata": {},
     "output_type": "execute_result"
    }
   ],
   "source": [
    "type(img)"
   ]
  },
  {
   "cell_type": "code",
   "execution_count": 27,
   "metadata": {
    "collapsed": true
   },
   "outputs": [],
   "source": [
    "dir_path = './nogi_imgs/shiraishi/'\n",
    "others_path = './nogi_imgs/akimoto/'\n",
    "files = [f for f in sorted(os.listdir(dir_path))]\n",
    "other_files = [o for o in sorted(os.listdir(others_path))]"
   ]
  },
  {
   "cell_type": "markdown",
   "metadata": {},
   "source": [
    "同一人物の画像のペアを乱数で生成し、そこに別の人物の画像を加え**triplet**を構成する。<br>\n",
    "**triplet = [anchor, positive, negative]**が想定されているのでそのようにリストを作成する。"
   ]
  },
  {
   "cell_type": "code",
   "execution_count": 28,
   "metadata": {
    "collapsed": true
   },
   "outputs": [],
   "source": [
    "# get anchor and positive image　\n",
    "pair = np.random.randint(0,len(files),2)\n",
    "anchor = Image.open('{0}{1}'.format(dir_path,files[pair[0]]))\n",
    "positive = Image.open('{0}{1}'.format(dir_path,files[pair[1]]))"
   ]
  },
  {
   "cell_type": "code",
   "execution_count": 29,
   "metadata": {
    "collapsed": true
   },
   "outputs": [],
   "source": [
    "# get negative image\n",
    "nega_idx = np.random.randint(len(other_files))\n",
    "negative = Image.open('{}/{}'.format(others_path,other_files[nega_idx]))"
   ]
  },
  {
   "cell_type": "code",
   "execution_count": 30,
   "metadata": {},
   "outputs": [
    {
     "data": {
      "text/plain": [
       "PIL.PngImagePlugin.PngImageFile"
      ]
     },
     "execution_count": 30,
     "metadata": {},
     "output_type": "execute_result"
    }
   ],
   "source": [
    "type(anchor)"
   ]
  },
  {
   "cell_type": "code",
   "execution_count": 31,
   "metadata": {
    "collapsed": true
   },
   "outputs": [],
   "source": [
    "# get triplet\n",
    "triplet = [anchor, positive, negative] "
   ]
  },
  {
   "cell_type": "markdown",
   "metadata": {},
   "source": [
    "## 可視化によるtripletの確認"
   ]
  },
  {
   "cell_type": "code",
   "execution_count": 32,
   "metadata": {
    "scrolled": true
   },
   "outputs": [
    {
     "data": {
      "image/png": "[encoded data removed]",
      "text/plain": [
       "<matplotlib.figure.Figure at 0x7f700fb8bb00>"
      ]
     },
     "metadata": {},
     "output_type": "display_data"
    }
   ],
   "source": [
    "# method for visualization\n",
    "def plot_triplet(triplet):\n",
    "    title = ['anchor','positive','negative']\n",
    "    for i,t in enumerate(triplet):\n",
    "        plt.subplot(1,3,i+1)\n",
    "        plt.imshow(triplet[i])\n",
    "        plt.title('{}'.format(title[i]))\n",
    "    plt.show()\n",
    "    \n",
    "plot_triplet(triplet)"
   ]
  },
  {
   "cell_type": "markdown",
   "metadata": {},
   "source": [
    "## 各人xx個分のtripletを生成。"
   ]
  },
  {
   "cell_type": "markdown",
   "metadata": {},
   "source": [
    "tripletが生成できていることが判ったため、大量に生成する。"
   ]
  },
  {
   "cell_type": "code",
   "execution_count": 33,
   "metadata": {},
   "outputs": [
    {
     "data": {
      "text/plain": [
       "['akimoto', 'ikuta', 'nishino', 'shiraishi']"
      ]
     },
     "execution_count": 33,
     "metadata": {},
     "output_type": "execute_result"
    }
   ],
   "source": [
    "# only name directories\n",
    "names = [name for name in sorted(os.listdir('./nogi_imgs/'))]\n",
    "names.remove('.DS_Store')\n",
    "names.remove('test')\n",
    "names.remove('the_others')\n",
    "\n",
    "names"
   ]
  },
  {
   "cell_type": "code",
   "execution_count": 34,
   "metadata": {
    "collapsed": true
   },
   "outputs": [],
   "source": [
    "dir_pathes = []\n",
    "for name in names:\n",
    "    dir_pathes.append('./nogi_imgs/{}/'.format(name))"
   ]
  },
  {
   "cell_type": "code",
   "execution_count": 35,
   "metadata": {
    "scrolled": false
   },
   "outputs": [
    {
     "data": {
      "text/plain": [
       "['./nogi_imgs/akimoto/',\n",
       " './nogi_imgs/ikuta/',\n",
       " './nogi_imgs/nishino/',\n",
       " './nogi_imgs/shiraishi/']"
      ]
     },
     "execution_count": 35,
     "metadata": {},
     "output_type": "execute_result"
    }
   ],
   "source": [
    "dir_pathes"
   ]
  },
  {
   "cell_type": "code",
   "execution_count": 36,
   "metadata": {
    "scrolled": true
   },
   "outputs": [
    {
     "name": "stdout",
     "output_type": "stream",
     "text": [
      "save file\n"
     ]
    }
   ],
   "source": [
    "triplet_num = 100\n",
    "triplets = []\n",
    "for i in range(len(dir_pathes)):\n",
    "    # set the files of anchor and positive images\n",
    "    anc_pos_files = [f for f in sorted(os.listdir(dir_pathes[i]))]\n",
    "    anc_pos_files.remove('.DS_Store')\n",
    "    for iteration in range(triplet_num):\n",
    "\n",
    "        # set the files of negative images\n",
    "        j = random.choice([num for num in range(len(dir_pathes)) if num not in [i]])\n",
    "        nega_files = [o for o in sorted(os.listdir(dir_pathes[j]))]\n",
    "        nega_files.remove('.DS_Store')\n",
    "\n",
    "        # get anchor and positive images as numpy array\n",
    "        pair = np.random.randint(0,len(anc_pos_files),2)\n",
    "        anchor = np.array(Image.open('{0}{1}'.format(dir_pathes[i],anc_pos_files[pair[0]])).resize((imwidth,imhight)))\n",
    "        positive = np.array(Image.open('{0}{1}'.format(dir_pathes[i],anc_pos_files[pair[1]])).resize((imwidth,imhight)))\n",
    "\n",
    "        # get negative images as numpy array\n",
    "        nega_idx = np.random.randint(len(nega_files))\n",
    "        negative = np.array(Image.open('{0}{1}'.format(dir_pathes[j],nega_files[nega_idx])).resize((imwidth,imhight)))\n",
    "\n",
    "        # make triplet\n",
    "        triplet = [anchor, positive, negative]\n",
    "        \n",
    "        # (optional)visualization\n",
    "        # plot_triplet(triplet)\n",
    "        \n",
    "        # append with normalization (0,1)\n",
    "        triplets.append([anchor/255., positive/255., negative/255.])\n",
    "        \n",
    "# save triplets as numpy array\n",
    "triplets = np.array(triplets)\n",
    "print('save file')\n",
    "np.save('./model/triplets.npy',triplets)"
   ]
  },
  {
   "cell_type": "markdown",
   "metadata": {},
   "source": [
    "## -----------------------------------------------------\n",
    "## モデルのコンパイル及び学習(保存まで)"
   ]
  },
  {
   "cell_type": "markdown",
   "metadata": {},
   "source": [
    "### loss = 0 means that \" D(anchor,positive) - D(anchor,negative) = alpha(margin) \""
   ]
  },
  {
   "cell_type": "code",
   "execution_count": 31,
   "metadata": {
    "scrolled": false
   },
   "outputs": [
    {
     "name": "stderr",
     "output_type": "stream",
     "text": [
      "/home/inouelab/.conda/envs/keras35/lib/python3.5/site-packages/ipykernel_launcher.py:5: UserWarning: Output \"triplet_loss_layer\" missing from loss dictionary. We assume this was done on purpose, and we will not be expecting any data to be passed to \"triplet_loss_layer\" during training.\n",
      "  \"\"\"\n"
     ]
    },
    {
     "name": "stdout",
     "output_type": "stream",
     "text": [
      "Epoch 1/100\n",
      "400/400 [==============================] - 2s 5ms/step - loss: 4900.1480\n",
      "Epoch 2/100\n",
      "400/400 [==============================] - 2s 4ms/step - loss: 4900.0709\n",
      "Epoch 3/100\n",
      "400/400 [==============================] - 2s 4ms/step - loss: 4900.0211\n",
      "Epoch 4/100\n",
      "400/400 [==============================] - 2s 4ms/step - loss: 4900.0133\n",
      "Epoch 5/100\n",
      "400/400 [==============================] - 2s 4ms/step - loss: 4900.0044\n",
      "Epoch 6/100\n",
      "400/400 [==============================] - 2s 4ms/step - loss: 4900.0025\n",
      "Epoch 7/100\n",
      "400/400 [==============================] - 2s 4ms/step - loss: 4900.0012\n",
      "Epoch 8/100\n",
      "400/400 [==============================] - 2s 4ms/step - loss: 4900.0005\n",
      "Epoch 9/100\n",
      "400/400 [==============================] - 2s 4ms/step - loss: 4900.0002\n",
      "Epoch 10/100\n",
      "400/400 [==============================] - 2s 4ms/step - loss: 4900.0000\n",
      "Epoch 11/100\n",
      "400/400 [==============================] - 2s 4ms/step - loss: 4900.0000\n",
      "Epoch 12/100\n",
      "400/400 [==============================] - 2s 4ms/step - loss: 4900.0000\n",
      "Epoch 13/100\n",
      "400/400 [==============================] - 2s 4ms/step - loss: 4900.0000\n",
      "Epoch 14/100\n",
      "400/400 [==============================] - 2s 4ms/step - loss: 4900.0000\n",
      "Epoch 15/100\n",
      "400/400 [==============================] - 2s 4ms/step - loss: 4900.0000\n",
      "Epoch 16/100\n",
      "400/400 [==============================] - 2s 4ms/step - loss: 4900.0000\n",
      "Epoch 17/100\n",
      "400/400 [==============================] - 2s 4ms/step - loss: 4900.0000\n",
      "Epoch 18/100\n",
      "400/400 [==============================] - 2s 4ms/step - loss: 4900.0000\n",
      "Epoch 19/100\n",
      "400/400 [==============================] - 2s 4ms/step - loss: 4900.0000\n",
      "Epoch 20/100\n",
      "400/400 [==============================] - 2s 4ms/step - loss: 4900.0000\n",
      "Epoch 21/100\n",
      "400/400 [==============================] - 2s 4ms/step - loss: 4900.0000\n",
      "Epoch 22/100\n",
      "400/400 [==============================] - 2s 4ms/step - loss: 4900.0000\n",
      "Epoch 23/100\n",
      "400/400 [==============================] - 2s 4ms/step - loss: 4900.0000\n",
      "Epoch 24/100\n",
      "400/400 [==============================] - 2s 4ms/step - loss: 4900.0000\n",
      "Epoch 25/100\n",
      "400/400 [==============================] - 2s 4ms/step - loss: 4900.0000\n",
      "Epoch 26/100\n",
      "400/400 [==============================] - 2s 4ms/step - loss: 4900.0000\n",
      "Epoch 27/100\n",
      "400/400 [==============================] - 2s 4ms/step - loss: 4900.0000\n",
      "Epoch 28/100\n",
      "400/400 [==============================] - 2s 4ms/step - loss: 4900.0000\n",
      "Epoch 29/100\n",
      "400/400 [==============================] - 2s 4ms/step - loss: 4900.0000\n",
      "Epoch 30/100\n",
      "400/400 [==============================] - 2s 4ms/step - loss: 4900.0000\n",
      "Epoch 31/100\n",
      "400/400 [==============================] - 2s 4ms/step - loss: 4900.0000\n",
      "Epoch 32/100\n",
      "400/400 [==============================] - 2s 4ms/step - loss: 4900.0000\n",
      "Epoch 33/100\n",
      "400/400 [==============================] - 2s 4ms/step - loss: 4900.0000\n",
      "Epoch 34/100\n",
      "400/400 [==============================] - 2s 4ms/step - loss: 4900.0000\n",
      "Epoch 35/100\n",
      "400/400 [==============================] - 2s 4ms/step - loss: 4900.0000\n",
      "Epoch 36/100\n",
      "400/400 [==============================] - 2s 4ms/step - loss: 4900.0000\n",
      "Epoch 37/100\n",
      "400/400 [==============================] - 2s 4ms/step - loss: 4900.0000\n",
      "Epoch 38/100\n",
      "400/400 [==============================] - 2s 4ms/step - loss: 4900.0000\n",
      "Epoch 39/100\n",
      "400/400 [==============================] - 1s 4ms/step - loss: 4900.0000\n",
      "Epoch 40/100\n",
      "400/400 [==============================] - 2s 4ms/step - loss: 4900.0000\n",
      "Epoch 41/100\n",
      "400/400 [==============================] - 2s 4ms/step - loss: 4900.0000\n",
      "Epoch 42/100\n",
      "400/400 [==============================] - 2s 4ms/step - loss: 4900.0000\n",
      "Epoch 43/100\n",
      "400/400 [==============================] - 2s 4ms/step - loss: 4900.0000\n",
      "Epoch 44/100\n",
      "400/400 [==============================] - 2s 4ms/step - loss: 4900.0000\n",
      "Epoch 45/100\n",
      "400/400 [==============================] - 2s 4ms/step - loss: 4900.0000\n",
      "Epoch 46/100\n",
      "400/400 [==============================] - 2s 4ms/step - loss: 4900.0000\n",
      "Epoch 47/100\n",
      "400/400 [==============================] - 2s 4ms/step - loss: 4900.0000\n",
      "Epoch 48/100\n",
      "400/400 [==============================] - 2s 4ms/step - loss: 4900.0000\n",
      "Epoch 49/100\n",
      "400/400 [==============================] - 2s 4ms/step - loss: 4900.0000\n",
      "Epoch 50/100\n",
      "400/400 [==============================] - 2s 4ms/step - loss: 4900.0000\n",
      "Epoch 51/100\n",
      "400/400 [==============================] - 1s 4ms/step - loss: 4900.0000\n",
      "Epoch 52/100\n",
      "400/400 [==============================] - 2s 4ms/step - loss: 4900.0000\n",
      "Epoch 53/100\n",
      "400/400 [==============================] - 2s 4ms/step - loss: 4900.0000\n",
      "Epoch 54/100\n",
      "400/400 [==============================] - 2s 4ms/step - loss: 4900.0000\n",
      "Epoch 55/100\n",
      "400/400 [==============================] - 2s 4ms/step - loss: 4900.0000\n",
      "Epoch 56/100\n",
      "400/400 [==============================] - 2s 4ms/step - loss: 4900.0000\n",
      "Epoch 57/100\n",
      "400/400 [==============================] - 2s 4ms/step - loss: 4900.0000\n",
      "Epoch 58/100\n",
      "400/400 [==============================] - 2s 4ms/step - loss: 4900.0000\n",
      "Epoch 59/100\n",
      "400/400 [==============================] - 2s 4ms/step - loss: 4900.0000\n",
      "Epoch 60/100\n",
      "400/400 [==============================] - 2s 4ms/step - loss: 4900.0000\n",
      "Epoch 61/100\n",
      "400/400 [==============================] - 2s 4ms/step - loss: 4900.0000\n",
      "Epoch 62/100\n",
      "400/400 [==============================] - 2s 4ms/step - loss: 4900.0000\n",
      "Epoch 63/100\n",
      "400/400 [==============================] - 2s 4ms/step - loss: 4900.0000\n",
      "Epoch 64/100\n",
      "400/400 [==============================] - 2s 4ms/step - loss: 4900.0000\n",
      "Epoch 65/100\n",
      "400/400 [==============================] - 2s 4ms/step - loss: 4900.0000\n",
      "Epoch 66/100\n",
      "400/400 [==============================] - 2s 4ms/step - loss: 4900.0000\n",
      "Epoch 67/100\n",
      "400/400 [==============================] - 2s 4ms/step - loss: 4900.0000\n",
      "Epoch 68/100\n",
      "400/400 [==============================] - 2s 4ms/step - loss: 4900.0000\n",
      "Epoch 69/100\n",
      "400/400 [==============================] - 2s 4ms/step - loss: 4900.0000\n",
      "Epoch 70/100\n",
      "400/400 [==============================] - 2s 4ms/step - loss: 4900.0000\n",
      "Epoch 71/100\n",
      "400/400 [==============================] - 2s 4ms/step - loss: 4900.0000\n",
      "Epoch 72/100\n",
      "400/400 [==============================] - 2s 4ms/step - loss: 4900.0000\n",
      "Epoch 73/100\n",
      "400/400 [==============================] - 2s 4ms/step - loss: 4900.0000\n",
      "Epoch 74/100\n",
      "400/400 [==============================] - 2s 4ms/step - loss: 4900.0000\n",
      "Epoch 75/100\n",
      "400/400 [==============================] - 2s 4ms/step - loss: 4900.0000\n",
      "Epoch 76/100\n",
      "400/400 [==============================] - 2s 4ms/step - loss: 4900.0000\n",
      "Epoch 77/100\n",
      "400/400 [==============================] - 2s 4ms/step - loss: 4900.0000\n",
      "Epoch 78/100\n",
      "400/400 [==============================] - ETA: 0s - loss: 4900.00 - 2s 4ms/step - loss: 4900.0000\n",
      "Epoch 79/100\n",
      "400/400 [==============================] - 2s 4ms/step - loss: 4900.0000\n",
      "Epoch 80/100\n",
      "400/400 [==============================] - 2s 4ms/step - loss: 4900.0000\n",
      "Epoch 81/100\n",
      "400/400 [==============================] - 2s 4ms/step - loss: 4900.0000\n",
      "Epoch 82/100\n",
      "400/400 [==============================] - 2s 4ms/step - loss: 4900.0000\n",
      "Epoch 83/100\n",
      "400/400 [==============================] - 2s 4ms/step - loss: 4900.0000\n",
      "Epoch 84/100\n",
      "400/400 [==============================] - 2s 4ms/step - loss: 4900.0000\n",
      "Epoch 85/100\n",
      "400/400 [==============================] - 2s 4ms/step - loss: 4900.0000\n",
      "Epoch 86/100\n",
      "400/400 [==============================] - 2s 4ms/step - loss: 4900.0000\n",
      "Epoch 87/100\n",
      "400/400 [==============================] - 2s 4ms/step - loss: 4900.0007\n",
      "Epoch 88/100\n",
      "400/400 [==============================] - 2s 4ms/step - loss: 4900.0005\n",
      "Epoch 89/100\n",
      "400/400 [==============================] - 2s 4ms/step - loss: 4900.0001\n",
      "Epoch 90/100\n",
      "400/400 [==============================] - ETA: 0s - loss: 4900.00 - 2s 4ms/step - loss: 4900.0000\n",
      "Epoch 91/100\n",
      "400/400 [==============================] - 2s 4ms/step - loss: 4900.0000\n",
      "Epoch 92/100\n",
      "400/400 [==============================] - 2s 4ms/step - loss: 4900.0000\n",
      "Epoch 93/100\n",
      "400/400 [==============================] - 2s 4ms/step - loss: 4900.0001\n",
      "Epoch 94/100\n",
      "400/400 [==============================] - 2s 4ms/step - loss: 4900.0000\n",
      "Epoch 95/100\n"
     ]
    },
    {
     "name": "stdout",
     "output_type": "stream",
     "text": [
      "400/400 [==============================] - 2s 4ms/step - loss: 4900.0000\n",
      "Epoch 96/100\n",
      "400/400 [==============================] - 2s 4ms/step - loss: 4900.0000\n",
      "Epoch 97/100\n",
      "400/400 [==============================] - 2s 4ms/step - loss: 4900.0000\n",
      "Epoch 98/100\n",
      "400/400 [==============================] - 2s 4ms/step - loss: 4900.0001\n",
      "Epoch 99/100\n",
      "400/400 [==============================] - 2s 4ms/step - loss: 4900.0010\n",
      "Epoch 100/100\n",
      "400/400 [==============================] - 2s 4ms/step - loss: 4900.0002\n"
     ]
    }
   ],
   "source": [
    "# load triplets\n",
    "triplets = np.load('./model/triplets.npy')\n",
    "\n",
    "# compile model\n",
    "tripletNet.compile(loss=None, optimizer='adam')\n",
    "\n",
    "# fit model\n",
    "# tripletNet.fit([triplets[:,0],triplets[:,1],triplets[:,2]], epochs=10, steps_per_epoch=100)\n",
    "tripletNet.fit([triplets[:,0],triplets[:,1],triplets[:,2]], epochs=100, batch_size=50) # using batch_size is better\n",
    "tripletNet.save('./model/triplet.h5')\n",
    "\n",
    "# save partial Network \n",
    "embNet_a.save('./model/embNet_a.h5')\n",
    "embNet_p.save('./model/embNet_p.h5')\n",
    "embNet_n.save('./model/embNet_n.h5')"
   ]
  },
  {
   "cell_type": "markdown",
   "metadata": {},
   "source": [
    "-----------以下 **emb4retrieval.ipynb** に引き継ぎ-----------\n",
    "## model(別名)としてロードできるか確認\n",
    "ロード対象は**embNet_a**"
   ]
  },
  {
   "cell_type": "code",
   "execution_count": 52,
   "metadata": {
    "scrolled": true
   },
   "outputs": [
    {
     "name": "stderr",
     "output_type": "stream",
     "text": [
      "/home/inouelab/anaconda3/envs/keras/lib/python3.5/site-packages/keras/models.py:282: UserWarning: No training configuration found in save file: the model was *not* compiled. Compile it manually.\n",
      "  warnings.warn('No training configuration found in save file: '\n"
     ]
    }
   ],
   "source": [
    "from keras.models import load_model\n",
    "# model = load_model('./model/triplet.h5',custom_objects={'TripletLossLayer':TripletLossLayer})\n",
    "model = load_model('./model/embNet_a.h5',custom_objects={'TripletLossLayer':TripletLossLayer})"
   ]
  },
  {
   "cell_type": "code",
   "execution_count": 44,
   "metadata": {
    "collapsed": true
   },
   "outputs": [],
   "source": [
    "tripletNet.save_weights(\"./model/triplet.hdf5\")"
   ]
  },
  {
   "cell_type": "code",
   "execution_count": 45,
   "metadata": {
    "collapsed": true
   },
   "outputs": [],
   "source": [
    "model.load_weights(\"./model/triplet.hdf5\")"
   ]
  },
  {
   "cell_type": "markdown",
   "metadata": {},
   "source": [
    "## 学習に使っていないデータでpredictし出力の形を確認"
   ]
  },
  {
   "cell_type": "code",
   "execution_count": 46,
   "metadata": {},
   "outputs": [
    {
     "data": {
      "image/png": "[encoded data removed]",
      "text/plain": [
       "<matplotlib.figure.Figure at 0x7fbb34fe39e8>"
      ]
     },
     "metadata": {},
     "output_type": "display_data"
    }
   ],
   "source": [
    "test_img = plt.imread('./nogi_imgs/test/inputImage_0.png')\n",
    "plt.imshow(test_img)\n",
    "plt.show()"
   ]
  }
 ],
 "metadata": {
  "kernelspec": {
   "display_name": "keras35",
   "language": "python",
   "name": "keras35"
  },
  "language_info": {
   "codemirror_mode": {
    "name": "ipython",
    "version": 3
   },
   "file_extension": ".py",
   "mimetype": "text/x-python",
   "name": "python",
   "nbconvert_exporter": "python",
   "pygments_lexer": "ipython3",
   "version": "3.5.4"
  }
 },
 "nbformat": 4,
 "nbformat_minor": 1
}
