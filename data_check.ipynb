{
 "cells": [
  {
   "cell_type": "code",
   "execution_count": 2,
   "metadata": {
    "collapsed": true
   },
   "outputs": [],
   "source": [
    "import json"
   ]
  },
  {
   "cell_type": "code",
   "execution_count": 11,
   "metadata": {
    "collapsed": false
   },
   "outputs": [],
   "source": [
    "# with open('./meta/json/train_pairs_bags.json', 'r') as f:\n",
    "#     jsonData = json.load(f)\n",
    "# # print (json.dumps(jsonData, sort_keys = True, indent = 4))\n"
   ]
  },
  {
   "cell_type": "code",
   "execution_count": 10,
   "metadata": {
    "collapsed": false
   },
   "outputs": [],
   "source": [
    "# with open('./meta/json/retrieval_bags.json', 'r') as f:\n",
    "#         jsonData = json.load(f)\n",
    "# # print (json.dumps(jsonData, sort_keys = True, indent = 4))\n",
    "    "
   ]
  },
  {
   "cell_type": "code",
   "execution_count": 20,
   "metadata": {
    "collapsed": false
   },
   "outputs": [],
   "source": [
    "with open('./photos/photos.txt') as photo_f:\n",
    "    lines = photo_f.readlines()\n",
    "    lines = lines[11:20]\n",
    "#     print(data[0])\n",
    "#     idx=0\n",
    "#     for line in lines:\n",
    "#         print(line)\n",
    "#         idx+=1"
   ]
  },
  {
   "cell_type": "code",
   "execution_count": 42,
   "metadata": {
    "collapsed": false
   },
   "outputs": [
    {
     "name": "stdout",
     "output_type": "stream",
     "text": [
      "http://media1.modcloth.com/community_outfit_image/000/000/009/262/img_full_41f71c6c74ae.jpg\n",
      "\n",
      "http://media1.modcloth.com/community_outfit_image/000/000/009/209/img_full_3df006763b24.jpg\n",
      "\n",
      "http://media1.modcloth.com/community_outfit_image/000/000/019/933/img_full_ff5812f902fd.jpg\n",
      "\n",
      "http://s3.amazonaws.com/media.modcloth/images/media/000/296/009/original/1418175705.028091.jpg?1418175743\n",
      "\n",
      "http://media1.modcloth.com/community_outfit_image/000/000/020/015/img_full_ba315ca3fb82.jpg\n",
      "\n",
      "http://s3.amazonaws.com/media.modcloth/images/media/000/296/008/original/1418174027.305341.jpg?1418174060\n",
      "\n",
      "http://media1.modcloth.com/community_outfit_image/000/000/117/928/img_full_2cce02be1e8f.jpg\n",
      "\n",
      "http://media1.modcloth.com/community_outfit_image/000/000/118/588/img_full_a9d47f519216.jpg\n",
      "\n",
      "http://s3.amazonaws.com/media.modcloth/images/media/000/295/952/original/1418128806.535448.jpg?1418128837\n",
      "\n"
     ]
    }
   ],
   "source": [
    "from PIL import Image\n",
    "import io\n",
    "from urllib.request import urlopen\n",
    "import matplotlib.pyplot as plt\n",
    "%matplotlib inline\n",
    "\n",
    "for line in lines:\n",
    "    content=line.split(',')\n",
    "    print(content[1])\n",
    "    file =io.BytesIO(urllib.request.urlopen(content[1]).read())\n",
    "    img = Image.open(file)\n",
    "    plt.imshow(img)\n",
    "    plt.imsave('./data/{0}.png'.format(content[0]),img)\n",
    "#     plt.show()\n",
    "    plt.close()"
   ]
  },
  {
   "cell_type": "code",
   "execution_count": null,
   "metadata": {
    "collapsed": true
   },
   "outputs": [],
   "source": []
  }
 ],
 "metadata": {
  "kernelspec": {
   "display_name": "py35",
   "language": "python",
   "name": "py35"
  },
  "language_info": {
   "codemirror_mode": {
    "name": "ipython",
    "version": 3
   },
   "file_extension": ".py",
   "mimetype": "text/x-python",
   "name": "python",
   "nbconvert_exporter": "python",
   "pygments_lexer": "ipython3",
   "version": "3.5.4"
  }
 },
 "nbformat": 4,
 "nbformat_minor": 0
}
