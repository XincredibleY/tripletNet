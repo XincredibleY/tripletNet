{
 "cells": [
  {
   "cell_type": "code",
   "execution_count": 1,
   "metadata": {
    "collapsed": false
   },
   "outputs": [
    {
     "name": "stderr",
     "output_type": "stream",
     "text": [
      "/Users/zukako/.pyenv/versions/anaconda3-4.0.0/envs/keras/lib/python3.6/site-packages/h5py/__init__.py:34: FutureWarning: Conversion of the second argument of issubdtype from `float` to `np.floating` is deprecated. In future, it will be treated as `np.float64 == np.dtype(float).type`.\n",
      "  from ._conv import register_converters as _register_converters\n",
      "Using TensorFlow backend.\n"
     ]
    }
   ],
   "source": [
    "# Convolutional Neural Network\n",
    "# keras functional API\n",
    "from keras.utils import plot_model\n",
    "from keras.models import Model\n",
    "from keras.layers import Input,Layer\n",
    "from keras.layers import Flatten\n",
    "from keras.layers import Dense\n",
    "from keras.layers.convolutional import Conv2D\n",
    "from keras.layers.pooling import MaxPooling2D\n",
    "from keras import backend as K\n",
    "\n",
    "import tensorflow as tf\n",
    "tf.set_random_seed(1)"
   ]
  },
  {
   "cell_type": "code",
   "execution_count": 2,
   "metadata": {
    "collapsed": true
   },
   "outputs": [],
   "source": [
    "ALPHA = 0.2  # Triplet Loss Parameter\n",
    "\n",
    "imhight = 128\n",
    "imwidth = 128"
   ]
  },
  {
   "cell_type": "markdown",
   "metadata": {},
   "source": [
    "# ネットワーク構造の定義\n",
    "低層を共有"
   ]
  },
  {
   "cell_type": "code",
   "execution_count": 3,
   "metadata": {
    "collapsed": true
   },
   "outputs": [],
   "source": [
    "# shared Layer\n",
    "shared_Conv1= Conv2D(64, (4,4), padding='same', activation='relu')\n",
    "shared_MP1= MaxPooling2D(pool_size=(2, 2))"
   ]
  },
  {
   "cell_type": "code",
   "execution_count": 4,
   "metadata": {
    "collapsed": false
   },
   "outputs": [],
   "source": [
    "# anchor \n",
    "a_in = Input(shape = (imhight, imwidth,3), name='anchor_input')\n",
    "conv1 = shared_Conv1(a_in)\n",
    "pool1 = shared_MP1(conv1)\n",
    "conv2 = Conv2D(32, (4,4) , padding='same', activation='relu')(pool1)\n",
    "pool2 = MaxPooling2D(pool_size=(2, 2))(conv2)\n",
    "dense = Dense(20, activation='relu')(pool2)\n",
    "a_emb = Flatten(name='anchor_output')(dense)"
   ]
  },
  {
   "cell_type": "code",
   "execution_count": 5,
   "metadata": {
    "collapsed": true
   },
   "outputs": [],
   "source": [
    "# positive sample\n",
    "p_in = Input(shape = (imhight, imwidth,3), name='positive_input')\n",
    "conv1 =  shared_Conv1(p_in)\n",
    "pool1 = shared_MP1(conv1)\n",
    "conv2 = Conv2D(32, (4,4) , padding='same', activation='relu')(pool1)\n",
    "pool2 = MaxPooling2D(pool_size=(2, 2))(conv2)\n",
    "dense = Dense(20, activation='relu')(pool2)\n",
    "p_emb = Flatten(name='positive_output')(dense)"
   ]
  },
  {
   "cell_type": "code",
   "execution_count": 6,
   "metadata": {
    "collapsed": false
   },
   "outputs": [],
   "source": [
    "# negative sample\n",
    "n_in = Input(shape = (imhight, imwidth,3))\n",
    "conv1 =  shared_Conv1(n_in)\n",
    "pool1 = shared_MP1(conv1)\n",
    "conv2 = Conv2D(32, (4,4) , padding='same', activation='relu')(pool1)\n",
    "pool2 = MaxPooling2D(pool_size=(2, 2))(conv2)\n",
    "dense = Dense(20, activation='relu')(pool2)\n",
    "n_emb = Flatten(name='negative_output')(dense)"
   ]
  },
  {
   "cell_type": "markdown",
   "metadata": {},
   "source": [
    "## triplet loss計算用のLayerインスタンスをLayerクラスを継承して作成\n",
    "tensorflow -> numpy ×<br>\n",
    "numpy -> tensorflow ○<br>\n",
    "triplet_lossの計算には **tensorflowの書式** を用いる。"
   ]
  },
  {
   "cell_type": "code",
   "execution_count": 7,
   "metadata": {
    "collapsed": false
   },
   "outputs": [],
   "source": [
    "class TripletLossLayer(Layer):\n",
    "    def __init__(self, alpha, **kwargs):\n",
    "        self.alpha = alpha\n",
    "        super(TripletLossLayer, self).__init__(**kwargs)\n",
    "    \n",
    "    def triplet_loss(self, inputs):\n",
    "        a, p, n = inputs\n",
    "        p_dist = K.sum(K.square(a-p), axis=-1)\n",
    "        n_dist = K.sum(K.square(a-n), axis=-1)\n",
    "        return K.sum(K.maximum(p_dist - n_dist + self.alpha, 0), axis=0)\n",
    "    \n",
    "    def call(self, inputs):\n",
    "        loss = self.triplet_loss(inputs)\n",
    "        self.add_loss(loss)\n",
    "        return loss"
   ]
  },
  {
   "cell_type": "markdown",
   "metadata": {},
   "source": [
    "・ [a_emb,p_emb,n_emb]のtripletを入力とするレイヤーを定義<br>\n",
    "・ LayerインスタンスとしてModelの中に組み込む<br>\n",
    "・ Inputインスタンスを指定すると、emb(埋込)までを認識してくれる。"
   ]
  },
  {
   "cell_type": "code",
   "execution_count": 8,
   "metadata": {
    "collapsed": true
   },
   "outputs": [],
   "source": [
    "# Layer that computes the triplet loss from anchor, positive and negative embedding vectors\n",
    "triplet_loss_layer = TripletLossLayer(alpha=0.2, name='triplet_loss_layer')([a_emb, p_emb, n_emb])\n",
    "\n",
    "# Model that can be trained with anchor, positive negative images\n",
    "tripletNet = Model([a_in, p_in, n_in], triplet_loss_layer)"
   ]
  },
  {
   "cell_type": "markdown",
   "metadata": {},
   "source": [
    "ネットワーク構造のプロット"
   ]
  },
  {
   "cell_type": "code",
   "execution_count": 9,
   "metadata": {
    "collapsed": false
   },
   "outputs": [],
   "source": [
    "plot_model(tripletNet, to_file='tripletNet.png')"
   ]
  },
  {
   "cell_type": "markdown",
   "metadata": {},
   "source": [
    "## 動きの確認"
   ]
  },
  {
   "cell_type": "code",
   "execution_count": 10,
   "metadata": {
    "collapsed": false
   },
   "outputs": [
    {
     "name": "stderr",
     "output_type": "stream",
     "text": [
      "/Users/zukako/.pyenv/versions/anaconda3-4.0.0/envs/keras/lib/python3.6/site-packages/ipykernel_launcher.py:5: UserWarning: Output \"triplet_loss_layer\" missing from loss dictionary. We assume this was done on purpose, and we will not be expecting any data to be passed to \"triplet_loss_layer\" during training.\n",
      "  \"\"\"\n"
     ]
    },
    {
     "name": "stdout",
     "output_type": "stream",
     "text": [
      "Epoch 1/10\n",
      "100/100 [==============================] - 59s 589ms/step - loss: 0.0000e+00\n",
      "Epoch 2/10\n",
      "100/100 [==============================] - 59s 590ms/step - loss: 0.0000e+00\n",
      "Epoch 3/10\n",
      "100/100 [==============================] - 59s 588ms/step - loss: 0.0000e+00\n",
      "Epoch 4/10\n",
      "100/100 [==============================] - 4589s 46s/step - loss: 0.0000e+00\n",
      "Epoch 5/10\n",
      "100/100 [==============================] - 61s 612ms/step - loss: 0.0000e+00\n",
      "Epoch 6/10\n",
      "100/100 [==============================] - 61s 614ms/step - loss: 0.0000e+00\n",
      "Epoch 7/10\n",
      "100/100 [==============================] - 61s 613ms/step - loss: 0.0000e+00\n",
      "Epoch 8/10\n",
      "100/100 [==============================] - 61s 606ms/step - loss: 0.0000e+00\n",
      "Epoch 9/10\n",
      "100/100 [==============================] - 345s 3s/step - loss: 0.0000e+00\n",
      "Epoch 10/10\n",
      "100/100 [==============================] - 65s 652ms/step - loss: 0.0000e+00\n"
     ]
    },
    {
     "data": {
      "text/plain": [
       "<keras.callbacks.History at 0x124bcc898>"
      ]
     },
     "execution_count": 10,
     "metadata": {},
     "output_type": "execute_result"
    }
   ],
   "source": [
    "# sample data\n",
    "# data_gen.pyからtriplet_generatorを読み込んでsample生成\n",
    "from data_gen import triplet_generator\n",
    "generator = triplet_generator()\n",
    "\n",
    "tripletNet.compile(loss=None, optimizer='adam')\n",
    "tripletNet.fit_generator(generator=generator, epochs=10, steps_per_epoch=100)"
   ]
  },
  {
   "cell_type": "code",
   "execution_count": 18,
   "metadata": {
    "collapsed": false
   },
   "outputs": [],
   "source": [
    "import numpy as np\n",
    "a_batch = np.random.rand(4, 128, 128, 3)\n",
    "p_batch = np.random.rand(4, 128, 128, 3)\n",
    "n_batch = np.random.rand(4, 128, 128, 3)\n",
    "\n",
    "x = [a_batch,p_batch,n_batch]"
   ]
  },
  {
   "cell_type": "code",
   "execution_count": 19,
   "metadata": {
    "collapsed": false
   },
   "outputs": [
    {
     "name": "stdout",
     "output_type": "stream",
     "text": [
      "Epoch 1/10\n",
      "100/100 [==============================] - 58s 581ms/step - loss: 0.0000e+00\n",
      "Epoch 2/10\n",
      "100/100 [==============================] - 61s 612ms/step - loss: 0.0000e+00\n",
      "Epoch 3/10\n",
      "100/100 [==============================] - 59s 592ms/step - loss: 0.0000e+00\n",
      "Epoch 4/10\n",
      "100/100 [==============================] - 65s 647ms/step - loss: 0.0000e+00\n",
      "Epoch 5/10\n",
      "100/100 [==============================] - 74s 735ms/step - loss: 0.0000e+00\n",
      "Epoch 6/10\n",
      "100/100 [==============================] - 80s 802ms/step - loss: 0.0000e+00\n",
      "Epoch 7/10\n",
      "100/100 [==============================] - 85s 849ms/step - loss: 0.0000e+00\n",
      "Epoch 8/10\n",
      "100/100 [==============================] - 89s 893ms/step - loss: 0.0000e+00\n",
      "Epoch 9/10\n",
      "100/100 [==============================] - 81s 814ms/step - loss: 0.0000e+00\n",
      "Epoch 10/10\n",
      "100/100 [==============================] - 92s 923ms/step - loss: 0.0000e+00\n"
     ]
    },
    {
     "data": {
      "text/plain": [
       "<keras.callbacks.History at 0x1250829b0>"
      ]
     },
     "execution_count": 19,
     "metadata": {},
     "output_type": "execute_result"
    }
   ],
   "source": [
    "tripletNet.fit(x, epochs=10, steps_per_epoch=100)"
   ]
  },
  {
   "cell_type": "code",
   "execution_count": null,
   "metadata": {
    "collapsed": true
   },
   "outputs": [],
   "source": []
  }
 ],
 "metadata": {
  "kernelspec": {
   "display_name": "keras36",
   "language": "python",
   "name": "keras36"
  },
  "language_info": {
   "codemirror_mode": {
    "name": "ipython",
    "version": 3
   },
   "file_extension": ".py",
   "mimetype": "text/x-python",
   "name": "python",
   "nbconvert_exporter": "python",
   "pygments_lexer": "ipython3",
   "version": "3.6.2"
  }
 },
 "nbformat": 4,
 "nbformat_minor": 0
}
