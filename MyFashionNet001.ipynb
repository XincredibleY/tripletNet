{
 "cells": [
  {
   "cell_type": "code",
   "execution_count": 1,
   "metadata": {
    "collapsed": false
   },
   "outputs": [],
   "source": [
    "import numpy as np\n",
    "import matplotlib.pyplot as plt\n",
    "from PIL import Image\n",
    "%matplotlib inline"
   ]
  },
  {
   "cell_type": "code",
   "execution_count": 1,
   "metadata": {
    "collapsed": false
   },
   "outputs": [
    {
     "name": "stderr",
     "output_type": "stream",
     "text": [
      "/Users/zukako/.pyenv/versions/anaconda3-4.0.0/envs/keras/lib/python3.6/site-packages/h5py/__init__.py:34: FutureWarning: Conversion of the second argument of issubdtype from `float` to `np.floating` is deprecated. In future, it will be treated as `np.float64 == np.dtype(float).type`.\n",
      "  from ._conv import register_converters as _register_converters\n",
      "Using TensorFlow backend.\n"
     ]
    }
   ],
   "source": [
    "# Convolutional Neural Network\n",
    "# keras functional API\n",
    "from keras.utils import plot_model\n",
    "from keras.models import Model\n",
    "from keras.layers import Input,Layer\n",
    "from keras.layers import Flatten\n",
    "from keras.layers import Dense\n",
    "from keras.layers.convolutional import Conv2D\n",
    "from keras.layers.pooling import MaxPooling2D\n",
    "from keras import backend as K\n",
    "\n",
    "import tensorflow as tf\n",
    "tf.set_random_seed(1)"
   ]
  },
  {
   "cell_type": "code",
   "execution_count": 2,
   "metadata": {
    "collapsed": true
   },
   "outputs": [],
   "source": [
    "ALPHA = 0.2  # Triplet Loss Parameter\n",
    "\n",
    "imhight = 128\n",
    "imwidth = 128"
   ]
  },
  {
   "cell_type": "markdown",
   "metadata": {},
   "source": [
    "# ネットワーク構造の定義\n",
    "低層を共有"
   ]
  },
  {
   "cell_type": "code",
   "execution_count": 3,
   "metadata": {
    "collapsed": true
   },
   "outputs": [],
   "source": [
    "# shared Layer\n",
    "shared_Conv1= Conv2D(64, (4,4), padding='same', activation='relu')\n",
    "shared_MP1= MaxPooling2D(pool_size=(2, 2))"
   ]
  },
  {
   "cell_type": "code",
   "execution_count": 4,
   "metadata": {
    "collapsed": false
   },
   "outputs": [],
   "source": [
    "# anchor \n",
    "a_in = Input(shape = (imhight, imwidth,3), name='anchor_input')\n",
    "conv1 = shared_Conv1(a_in)\n",
    "pool1 = shared_MP1(conv1)\n",
    "conv2 = Conv2D(32, (4,4) , padding='same', activation='relu')(pool1)\n",
    "pool2 = MaxPooling2D(pool_size=(2, 2))(conv2)\n",
    "dense = Dense(20, activation='relu')(pool2)\n",
    "a_emb = Flatten(name='anchor_output')(dense)"
   ]
  },
  {
   "cell_type": "code",
   "execution_count": 5,
   "metadata": {
    "collapsed": true
   },
   "outputs": [],
   "source": [
    "# positive sample\n",
    "p_in = Input(shape = (imhight, imwidth,3), name='positive_input')\n",
    "conv1 =  shared_Conv1(p_in)\n",
    "pool1 = shared_MP1(conv1)\n",
    "conv2 = Conv2D(32, (4,4) , padding='same', activation='relu')(pool1)\n",
    "pool2 = MaxPooling2D(pool_size=(2, 2))(conv2)\n",
    "dense = Dense(20, activation='relu')(pool2)\n",
    "p_emb = Flatten(name='positive_output')(dense)"
   ]
  },
  {
   "cell_type": "code",
   "execution_count": 6,
   "metadata": {
    "collapsed": false
   },
   "outputs": [],
   "source": [
    "# negative sample\n",
    "n_in = Input(shape = (imhight, imwidth,3))\n",
    "conv1 =  shared_Conv1(n_in)\n",
    "pool1 = shared_MP1(conv1)\n",
    "conv2 = Conv2D(32, (4,4) , padding='same', activation='relu')(pool1)\n",
    "pool2 = MaxPooling2D(pool_size=(2, 2))(conv2)\n",
    "dense = Dense(20, activation='relu')(pool2)\n",
    "n_emb = Flatten(name='negative_output')(dense)"
   ]
  },
  {
   "cell_type": "markdown",
   "metadata": {},
   "source": [
    "## triplet loss計算用のLayerインスタンスをLayerクラスを継承して作成\n",
    "tensorflow --> numpy ×(error)<br>\n",
    "numpy --> tensorflow ○<br>\n",
    "triplet_lossの計算には **tensorflowの書式** を用いる。"
   ]
  },
  {
   "cell_type": "code",
   "execution_count": 7,
   "metadata": {
    "collapsed": false
   },
   "outputs": [],
   "source": [
    "class TripletLossLayer(Layer):\n",
    "    def __init__(self, alpha, **kwargs):\n",
    "        self.alpha = alpha\n",
    "        super(TripletLossLayer, self).__init__(**kwargs)\n",
    "    \n",
    "    def triplet_loss(self, inputs):\n",
    "        a, p, n = inputs\n",
    "        p_dist = K.sum(K.square(a-p), axis=-1)\n",
    "        n_dist = K.sum(K.square(a-n), axis=-1)\n",
    "        return K.sum(K.maximum(p_dist - n_dist + self.alpha, 0), axis=0)\n",
    "    \n",
    "    def call(self, inputs):\n",
    "        loss = self.triplet_loss(inputs)\n",
    "        self.add_loss(loss)\n",
    "        return loss"
   ]
  },
  {
   "cell_type": "markdown",
   "metadata": {},
   "source": [
    "・ numpy配列のリスト、**[a_emb,p_emb,n_emb]のtriplet**を入力とするレイヤーを定義<br>\n",
    "・ LayerインスタンスとしてModelの中に組み込む<br>\n",
    "・ Inputインスタンスを指定すると、emb(埋込)までを認識してくれる。"
   ]
  },
  {
   "cell_type": "code",
   "execution_count": 8,
   "metadata": {
    "collapsed": true
   },
   "outputs": [],
   "source": [
    "# Layer that computes the triplet loss from anchor, positive and negative embedding vectors\n",
    "triplet_loss_layer = TripletLossLayer(alpha=0.2, name='triplet_loss_layer')([a_emb, p_emb, n_emb])\n",
    "\n",
    "# Model that can be trained with anchor, positive negative images\n",
    "tripletNet = Model([a_in, p_in, n_in], triplet_loss_layer)"
   ]
  },
  {
   "cell_type": "markdown",
   "metadata": {},
   "source": [
    "## ネットワーク構造の可視化"
   ]
  },
  {
   "cell_type": "code",
   "execution_count": 9,
   "metadata": {
    "collapsed": false
   },
   "outputs": [],
   "source": [
    "# 画像として出力\n",
    "plot_model(tripletNet, show_shapes=True, to_file='tripletNet.png')"
   ]
  },
  {
   "cell_type": "code",
   "execution_count": 10,
   "metadata": {
    "collapsed": false,
    "scrolled": false
   },
   "outputs": [
    {
     "data": {
      "image/svg+xml": [
       "<svg height=\"620pt\" viewBox=\"0.00 0.00 874.66 620.00\" width=\"875pt\" xmlns=\"http://www.w3.org/2000/svg\" xmlns:xlink=\"http://www.w3.org/1999/xlink\">\n",
       "<g class=\"graph\" id=\"graph0\" transform=\"scale(1 1) rotate(0) translate(4 616)\">\n",
       "<title>G</title>\n",
       "<polygon fill=\"#ffffff\" points=\"-4,4 -4,-616 870.6553,-616 870.6553,4 -4,4\" stroke=\"transparent\"/>\n",
       "<!-- 4791561408 -->\n",
       "<g class=\"node\" id=\"node1\">\n",
       "<title>4791561408</title>\n",
       "<polygon fill=\"none\" points=\"25.5723,-567.5 25.5723,-611.5 285.083,-611.5 285.083,-567.5 25.5723,-567.5\" stroke=\"#000000\"/>\n",
       "<text fill=\"#000000\" font-family=\"Times,serif\" font-size=\"14.00\" text-anchor=\"middle\" x=\"64.6689\" y=\"-585.3\">InputLayer</text>\n",
       "<polyline fill=\"none\" points=\"103.7656,-567.5 103.7656,-611.5 \" stroke=\"#000000\"/>\n",
       "<text fill=\"#000000\" font-family=\"Times,serif\" font-size=\"14.00\" text-anchor=\"middle\" x=\"131.6001\" y=\"-596.3\">input:</text>\n",
       "<polyline fill=\"none\" points=\"103.7656,-589.5 159.4346,-589.5 \" stroke=\"#000000\"/>\n",
       "<text fill=\"#000000\" font-family=\"Times,serif\" font-size=\"14.00\" text-anchor=\"middle\" x=\"131.6001\" y=\"-574.3\">output:</text>\n",
       "<polyline fill=\"none\" points=\"159.4346,-567.5 159.4346,-611.5 \" stroke=\"#000000\"/>\n",
       "<text fill=\"#000000\" font-family=\"Times,serif\" font-size=\"14.00\" text-anchor=\"middle\" x=\"222.2588\" y=\"-596.3\">(None, 128, 128, 3)</text>\n",
       "<polyline fill=\"none\" points=\"159.4346,-589.5 285.083,-589.5 \" stroke=\"#000000\"/>\n",
       "<text fill=\"#000000\" font-family=\"Times,serif\" font-size=\"14.00\" text-anchor=\"middle\" x=\"222.2588\" y=\"-574.3\">(None, 128, 128, 3)</text>\n",
       "</g>\n",
       "<!-- 4791558216 -->\n",
       "<g class=\"node\" id=\"node4\">\n",
       "<title>4791558216</title>\n",
       "<polygon fill=\"none\" points=\"307.4448,-486.5 307.4448,-530.5 559.2104,-530.5 559.2104,-486.5 307.4448,-486.5\" stroke=\"#000000\"/>\n",
       "<text fill=\"#000000\" font-family=\"Times,serif\" font-size=\"14.00\" text-anchor=\"middle\" x=\"339.1689\" y=\"-504.3\">Conv2D</text>\n",
       "<polyline fill=\"none\" points=\"370.8931,-486.5 370.8931,-530.5 \" stroke=\"#000000\"/>\n",
       "<text fill=\"#000000\" font-family=\"Times,serif\" font-size=\"14.00\" text-anchor=\"middle\" x=\"398.7275\" y=\"-515.3\">input:</text>\n",
       "<polyline fill=\"none\" points=\"370.8931,-508.5 426.562,-508.5 \" stroke=\"#000000\"/>\n",
       "<text fill=\"#000000\" font-family=\"Times,serif\" font-size=\"14.00\" text-anchor=\"middle\" x=\"398.7275\" y=\"-493.3\">output:</text>\n",
       "<polyline fill=\"none\" points=\"426.562,-486.5 426.562,-530.5 \" stroke=\"#000000\"/>\n",
       "<text fill=\"#000000\" font-family=\"Times,serif\" font-size=\"14.00\" text-anchor=\"middle\" x=\"492.8862\" y=\"-515.3\">(None, 128, 128, 3)</text>\n",
       "<polyline fill=\"none\" points=\"426.562,-508.5 559.2104,-508.5 \" stroke=\"#000000\"/>\n",
       "<text fill=\"#000000\" font-family=\"Times,serif\" font-size=\"14.00\" text-anchor=\"middle\" x=\"492.8862\" y=\"-493.3\">(None, 128, 128, 64)</text>\n",
       "</g>\n",
       "<!-- 4791561408&#45;&gt;4791558216 -->\n",
       "<g class=\"edge\" id=\"edge1\">\n",
       "<title>4791561408-&gt;4791558216</title>\n",
       "<path d=\"M230.9251,-567.4734C267.0858,-556.9374 310.5323,-544.2785 347.8865,-533.3947\" fill=\"none\" stroke=\"#000000\"/>\n",
       "<polygon fill=\"#000000\" points=\"349.1235,-536.6799 357.7452,-530.5222 347.1653,-529.9594 349.1235,-536.6799\" stroke=\"#000000\"/>\n",
       "</g>\n",
       "<!-- 4792305200 -->\n",
       "<g class=\"node\" id=\"node2\">\n",
       "<title>4792305200</title>\n",
       "<polygon fill=\"none\" points=\"303.5723,-567.5 303.5723,-611.5 563.083,-611.5 563.083,-567.5 303.5723,-567.5\" stroke=\"#000000\"/>\n",
       "<text fill=\"#000000\" font-family=\"Times,serif\" font-size=\"14.00\" text-anchor=\"middle\" x=\"342.6689\" y=\"-585.3\">InputLayer</text>\n",
       "<polyline fill=\"none\" points=\"381.7656,-567.5 381.7656,-611.5 \" stroke=\"#000000\"/>\n",
       "<text fill=\"#000000\" font-family=\"Times,serif\" font-size=\"14.00\" text-anchor=\"middle\" x=\"409.6001\" y=\"-596.3\">input:</text>\n",
       "<polyline fill=\"none\" points=\"381.7656,-589.5 437.4346,-589.5 \" stroke=\"#000000\"/>\n",
       "<text fill=\"#000000\" font-family=\"Times,serif\" font-size=\"14.00\" text-anchor=\"middle\" x=\"409.6001\" y=\"-574.3\">output:</text>\n",
       "<polyline fill=\"none\" points=\"437.4346,-567.5 437.4346,-611.5 \" stroke=\"#000000\"/>\n",
       "<text fill=\"#000000\" font-family=\"Times,serif\" font-size=\"14.00\" text-anchor=\"middle\" x=\"500.2588\" y=\"-596.3\">(None, 128, 128, 3)</text>\n",
       "<polyline fill=\"none\" points=\"437.4346,-589.5 563.083,-589.5 \" stroke=\"#000000\"/>\n",
       "<text fill=\"#000000\" font-family=\"Times,serif\" font-size=\"14.00\" text-anchor=\"middle\" x=\"500.2588\" y=\"-574.3\">(None, 128, 128, 3)</text>\n",
       "</g>\n",
       "<!-- 4792305200&#45;&gt;4791558216 -->\n",
       "<g class=\"edge\" id=\"edge2\">\n",
       "<title>4792305200-&gt;4791558216</title>\n",
       "<path d=\"M433.3276,-567.3664C433.3276,-559.1516 433.3276,-549.6579 433.3276,-540.7252\" fill=\"none\" stroke=\"#000000\"/>\n",
       "<polygon fill=\"#000000\" points=\"436.8277,-540.6068 433.3276,-530.6068 429.8277,-540.6069 436.8277,-540.6068\" stroke=\"#000000\"/>\n",
       "</g>\n",
       "<!-- 4792855072 -->\n",
       "<g class=\"node\" id=\"node3\">\n",
       "<title>4792855072</title>\n",
       "<polygon fill=\"none\" points=\"581.5723,-567.5 581.5723,-611.5 841.083,-611.5 841.083,-567.5 581.5723,-567.5\" stroke=\"#000000\"/>\n",
       "<text fill=\"#000000\" font-family=\"Times,serif\" font-size=\"14.00\" text-anchor=\"middle\" x=\"620.6689\" y=\"-585.3\">InputLayer</text>\n",
       "<polyline fill=\"none\" points=\"659.7656,-567.5 659.7656,-611.5 \" stroke=\"#000000\"/>\n",
       "<text fill=\"#000000\" font-family=\"Times,serif\" font-size=\"14.00\" text-anchor=\"middle\" x=\"687.6001\" y=\"-596.3\">input:</text>\n",
       "<polyline fill=\"none\" points=\"659.7656,-589.5 715.4346,-589.5 \" stroke=\"#000000\"/>\n",
       "<text fill=\"#000000\" font-family=\"Times,serif\" font-size=\"14.00\" text-anchor=\"middle\" x=\"687.6001\" y=\"-574.3\">output:</text>\n",
       "<polyline fill=\"none\" points=\"715.4346,-567.5 715.4346,-611.5 \" stroke=\"#000000\"/>\n",
       "<text fill=\"#000000\" font-family=\"Times,serif\" font-size=\"14.00\" text-anchor=\"middle\" x=\"778.2588\" y=\"-596.3\">(None, 128, 128, 3)</text>\n",
       "<polyline fill=\"none\" points=\"715.4346,-589.5 841.083,-589.5 \" stroke=\"#000000\"/>\n",
       "<text fill=\"#000000\" font-family=\"Times,serif\" font-size=\"14.00\" text-anchor=\"middle\" x=\"778.2588\" y=\"-574.3\">(None, 128, 128, 3)</text>\n",
       "</g>\n",
       "<!-- 4792855072&#45;&gt;4791558216 -->\n",
       "<g class=\"edge\" id=\"edge3\">\n",
       "<title>4792855072-&gt;4791558216</title>\n",
       "<path d=\"M635.7301,-567.4734C599.5695,-556.9374 556.123,-544.2785 518.7687,-533.3947\" fill=\"none\" stroke=\"#000000\"/>\n",
       "<polygon fill=\"#000000\" points=\"519.49,-529.9594 508.9101,-530.5222 517.5318,-536.6799 519.49,-529.9594\" stroke=\"#000000\"/>\n",
       "</g>\n",
       "<!-- 4791427024 -->\n",
       "<g class=\"node\" id=\"node5\">\n",
       "<title>4791427024</title>\n",
       "<polygon fill=\"none\" points=\"288,-405.5 288,-449.5 578.6553,-449.5 578.6553,-405.5 288,-405.5\" stroke=\"#000000\"/>\n",
       "<text fill=\"#000000\" font-family=\"Times,serif\" font-size=\"14.00\" text-anchor=\"middle\" x=\"339.1689\" y=\"-423.3\">MaxPooling2D</text>\n",
       "<polyline fill=\"none\" points=\"390.3379,-405.5 390.3379,-449.5 \" stroke=\"#000000\"/>\n",
       "<text fill=\"#000000\" font-family=\"Times,serif\" font-size=\"14.00\" text-anchor=\"middle\" x=\"418.1724\" y=\"-434.3\">input:</text>\n",
       "<polyline fill=\"none\" points=\"390.3379,-427.5 446.0068,-427.5 \" stroke=\"#000000\"/>\n",
       "<text fill=\"#000000\" font-family=\"Times,serif\" font-size=\"14.00\" text-anchor=\"middle\" x=\"418.1724\" y=\"-412.3\">output:</text>\n",
       "<polyline fill=\"none\" points=\"446.0068,-405.5 446.0068,-449.5 \" stroke=\"#000000\"/>\n",
       "<text fill=\"#000000\" font-family=\"Times,serif\" font-size=\"14.00\" text-anchor=\"middle\" x=\"512.3311\" y=\"-434.3\">(None, 128, 128, 64)</text>\n",
       "<polyline fill=\"none\" points=\"446.0068,-427.5 578.6553,-427.5 \" stroke=\"#000000\"/>\n",
       "<text fill=\"#000000\" font-family=\"Times,serif\" font-size=\"14.00\" text-anchor=\"middle\" x=\"512.3311\" y=\"-412.3\">(None, 64, 64, 64)</text>\n",
       "</g>\n",
       "<!-- 4791558216&#45;&gt;4791427024 -->\n",
       "<g class=\"edge\" id=\"edge4\">\n",
       "<title>4791558216-&gt;4791427024</title>\n",
       "<path d=\"M433.3276,-486.3664C433.3276,-478.1516 433.3276,-468.6579 433.3276,-459.7252\" fill=\"none\" stroke=\"#000000\"/>\n",
       "<polygon fill=\"#000000\" points=\"436.8277,-459.6068 433.3276,-449.6068 429.8277,-459.6069 436.8277,-459.6068\" stroke=\"#000000\"/>\n",
       "</g>\n",
       "<!-- 4791561520 -->\n",
       "<g class=\"node\" id=\"node6\">\n",
       "<title>4791561520</title>\n",
       "<polygon fill=\"none\" points=\"39.4448,-324.5 39.4448,-368.5 277.2104,-368.5 277.2104,-324.5 39.4448,-324.5\" stroke=\"#000000\"/>\n",
       "<text fill=\"#000000\" font-family=\"Times,serif\" font-size=\"14.00\" text-anchor=\"middle\" x=\"71.1689\" y=\"-342.3\">Conv2D</text>\n",
       "<polyline fill=\"none\" points=\"102.8931,-324.5 102.8931,-368.5 \" stroke=\"#000000\"/>\n",
       "<text fill=\"#000000\" font-family=\"Times,serif\" font-size=\"14.00\" text-anchor=\"middle\" x=\"130.7275\" y=\"-353.3\">input:</text>\n",
       "<polyline fill=\"none\" points=\"102.8931,-346.5 158.562,-346.5 \" stroke=\"#000000\"/>\n",
       "<text fill=\"#000000\" font-family=\"Times,serif\" font-size=\"14.00\" text-anchor=\"middle\" x=\"130.7275\" y=\"-331.3\">output:</text>\n",
       "<polyline fill=\"none\" points=\"158.562,-324.5 158.562,-368.5 \" stroke=\"#000000\"/>\n",
       "<text fill=\"#000000\" font-family=\"Times,serif\" font-size=\"14.00\" text-anchor=\"middle\" x=\"217.8862\" y=\"-353.3\">(None, 64, 64, 64)</text>\n",
       "<polyline fill=\"none\" points=\"158.562,-346.5 277.2104,-346.5 \" stroke=\"#000000\"/>\n",
       "<text fill=\"#000000\" font-family=\"Times,serif\" font-size=\"14.00\" text-anchor=\"middle\" x=\"217.8862\" y=\"-331.3\">(None, 64, 64, 32)</text>\n",
       "</g>\n",
       "<!-- 4791427024&#45;&gt;4791561520 -->\n",
       "<g class=\"edge\" id=\"edge7\">\n",
       "<title>4791427024-&gt;4791561520</title>\n",
       "<path d=\"M358.5459,-405.4734C322.7755,-394.9374 279.7979,-382.2785 242.8467,-371.3947\" fill=\"none\" stroke=\"#000000\"/>\n",
       "<polygon fill=\"#000000\" points=\"243.6759,-367.9903 233.0945,-368.5222 241.6981,-374.7051 243.6759,-367.9903\" stroke=\"#000000\"/>\n",
       "</g>\n",
       "<!-- 4416574352 -->\n",
       "<g class=\"node\" id=\"node7\">\n",
       "<title>4416574352</title>\n",
       "<polygon fill=\"none\" points=\"314.4448,-324.5 314.4448,-368.5 552.2104,-368.5 552.2104,-324.5 314.4448,-324.5\" stroke=\"#000000\"/>\n",
       "<text fill=\"#000000\" font-family=\"Times,serif\" font-size=\"14.00\" text-anchor=\"middle\" x=\"346.1689\" y=\"-342.3\">Conv2D</text>\n",
       "<polyline fill=\"none\" points=\"377.8931,-324.5 377.8931,-368.5 \" stroke=\"#000000\"/>\n",
       "<text fill=\"#000000\" font-family=\"Times,serif\" font-size=\"14.00\" text-anchor=\"middle\" x=\"405.7275\" y=\"-353.3\">input:</text>\n",
       "<polyline fill=\"none\" points=\"377.8931,-346.5 433.562,-346.5 \" stroke=\"#000000\"/>\n",
       "<text fill=\"#000000\" font-family=\"Times,serif\" font-size=\"14.00\" text-anchor=\"middle\" x=\"405.7275\" y=\"-331.3\">output:</text>\n",
       "<polyline fill=\"none\" points=\"433.562,-324.5 433.562,-368.5 \" stroke=\"#000000\"/>\n",
       "<text fill=\"#000000\" font-family=\"Times,serif\" font-size=\"14.00\" text-anchor=\"middle\" x=\"492.8862\" y=\"-353.3\">(None, 64, 64, 64)</text>\n",
       "<polyline fill=\"none\" points=\"433.562,-346.5 552.2104,-346.5 \" stroke=\"#000000\"/>\n",
       "<text fill=\"#000000\" font-family=\"Times,serif\" font-size=\"14.00\" text-anchor=\"middle\" x=\"492.8862\" y=\"-331.3\">(None, 64, 64, 32)</text>\n",
       "</g>\n",
       "<!-- 4791427024&#45;&gt;4416574352 -->\n",
       "<g class=\"edge\" id=\"edge8\">\n",
       "<title>4791427024-&gt;4416574352</title>\n",
       "<path d=\"M433.3276,-405.3664C433.3276,-397.1516 433.3276,-387.6579 433.3276,-378.7252\" fill=\"none\" stroke=\"#000000\"/>\n",
       "<polygon fill=\"#000000\" points=\"436.8277,-378.6068 433.3276,-368.6068 429.8277,-378.6069 436.8277,-378.6068\" stroke=\"#000000\"/>\n",
       "</g>\n",
       "<!-- 4792855800 -->\n",
       "<g class=\"node\" id=\"node8\">\n",
       "<title>4792855800</title>\n",
       "<polygon fill=\"none\" points=\"589.4448,-324.5 589.4448,-368.5 827.2104,-368.5 827.2104,-324.5 589.4448,-324.5\" stroke=\"#000000\"/>\n",
       "<text fill=\"#000000\" font-family=\"Times,serif\" font-size=\"14.00\" text-anchor=\"middle\" x=\"621.1689\" y=\"-342.3\">Conv2D</text>\n",
       "<polyline fill=\"none\" points=\"652.8931,-324.5 652.8931,-368.5 \" stroke=\"#000000\"/>\n",
       "<text fill=\"#000000\" font-family=\"Times,serif\" font-size=\"14.00\" text-anchor=\"middle\" x=\"680.7275\" y=\"-353.3\">input:</text>\n",
       "<polyline fill=\"none\" points=\"652.8931,-346.5 708.562,-346.5 \" stroke=\"#000000\"/>\n",
       "<text fill=\"#000000\" font-family=\"Times,serif\" font-size=\"14.00\" text-anchor=\"middle\" x=\"680.7275\" y=\"-331.3\">output:</text>\n",
       "<polyline fill=\"none\" points=\"708.562,-324.5 708.562,-368.5 \" stroke=\"#000000\"/>\n",
       "<text fill=\"#000000\" font-family=\"Times,serif\" font-size=\"14.00\" text-anchor=\"middle\" x=\"767.8862\" y=\"-353.3\">(None, 64, 64, 64)</text>\n",
       "<polyline fill=\"none\" points=\"708.562,-346.5 827.2104,-346.5 \" stroke=\"#000000\"/>\n",
       "<text fill=\"#000000\" font-family=\"Times,serif\" font-size=\"14.00\" text-anchor=\"middle\" x=\"767.8862\" y=\"-331.3\">(None, 64, 64, 32)</text>\n",
       "</g>\n",
       "<!-- 4791427024&#45;&gt;4792855800 -->\n",
       "<g class=\"edge\" id=\"edge9\">\n",
       "<title>4791427024-&gt;4792855800</title>\n",
       "<path d=\"M508.1093,-405.4734C543.8798,-394.9374 586.8574,-382.2785 623.8086,-371.3947\" fill=\"none\" stroke=\"#000000\"/>\n",
       "<polygon fill=\"#000000\" points=\"624.9572,-374.7051 633.5608,-368.5222 622.9793,-367.9903 624.9572,-374.7051\" stroke=\"#000000\"/>\n",
       "</g>\n",
       "<!-- 4791426408 -->\n",
       "<g class=\"node\" id=\"node9\">\n",
       "<title>4791426408</title>\n",
       "<polygon fill=\"none\" points=\"0,-243.5 0,-287.5 276.6553,-287.5 276.6553,-243.5 0,-243.5\" stroke=\"#000000\"/>\n",
       "<text fill=\"#000000\" font-family=\"Times,serif\" font-size=\"14.00\" text-anchor=\"middle\" x=\"51.1689\" y=\"-261.3\">MaxPooling2D</text>\n",
       "<polyline fill=\"none\" points=\"102.3379,-243.5 102.3379,-287.5 \" stroke=\"#000000\"/>\n",
       "<text fill=\"#000000\" font-family=\"Times,serif\" font-size=\"14.00\" text-anchor=\"middle\" x=\"130.1724\" y=\"-272.3\">input:</text>\n",
       "<polyline fill=\"none\" points=\"102.3379,-265.5 158.0068,-265.5 \" stroke=\"#000000\"/>\n",
       "<text fill=\"#000000\" font-family=\"Times,serif\" font-size=\"14.00\" text-anchor=\"middle\" x=\"130.1724\" y=\"-250.3\">output:</text>\n",
       "<polyline fill=\"none\" points=\"158.0068,-243.5 158.0068,-287.5 \" stroke=\"#000000\"/>\n",
       "<text fill=\"#000000\" font-family=\"Times,serif\" font-size=\"14.00\" text-anchor=\"middle\" x=\"217.3311\" y=\"-272.3\">(None, 64, 64, 32)</text>\n",
       "<polyline fill=\"none\" points=\"158.0068,-265.5 276.6553,-265.5 \" stroke=\"#000000\"/>\n",
       "<text fill=\"#000000\" font-family=\"Times,serif\" font-size=\"14.00\" text-anchor=\"middle\" x=\"217.3311\" y=\"-250.3\">(None, 32, 32, 32)</text>\n",
       "</g>\n",
       "<!-- 4791561520&#45;&gt;4791426408 -->\n",
       "<g class=\"edge\" id=\"edge10\">\n",
       "<title>4791561520-&gt;4791426408</title>\n",
       "<path d=\"M152.8625,-324.3664C150.8122,-316.0624 148.4391,-306.4514 146.2126,-297.4341\" fill=\"none\" stroke=\"#000000\"/>\n",
       "<polygon fill=\"#000000\" points=\"149.5813,-296.4763 143.7861,-287.6068 142.7854,-298.1543 149.5813,-296.4763\" stroke=\"#000000\"/>\n",
       "</g>\n",
       "<!-- 4792307048 -->\n",
       "<g class=\"node\" id=\"node10\">\n",
       "<title>4792307048</title>\n",
       "<polygon fill=\"none\" points=\"295,-243.5 295,-287.5 571.6553,-287.5 571.6553,-243.5 295,-243.5\" stroke=\"#000000\"/>\n",
       "<text fill=\"#000000\" font-family=\"Times,serif\" font-size=\"14.00\" text-anchor=\"middle\" x=\"346.1689\" y=\"-261.3\">MaxPooling2D</text>\n",
       "<polyline fill=\"none\" points=\"397.3379,-243.5 397.3379,-287.5 \" stroke=\"#000000\"/>\n",
       "<text fill=\"#000000\" font-family=\"Times,serif\" font-size=\"14.00\" text-anchor=\"middle\" x=\"425.1724\" y=\"-272.3\">input:</text>\n",
       "<polyline fill=\"none\" points=\"397.3379,-265.5 453.0068,-265.5 \" stroke=\"#000000\"/>\n",
       "<text fill=\"#000000\" font-family=\"Times,serif\" font-size=\"14.00\" text-anchor=\"middle\" x=\"425.1724\" y=\"-250.3\">output:</text>\n",
       "<polyline fill=\"none\" points=\"453.0068,-243.5 453.0068,-287.5 \" stroke=\"#000000\"/>\n",
       "<text fill=\"#000000\" font-family=\"Times,serif\" font-size=\"14.00\" text-anchor=\"middle\" x=\"512.3311\" y=\"-272.3\">(None, 64, 64, 32)</text>\n",
       "<polyline fill=\"none\" points=\"453.0068,-265.5 571.6553,-265.5 \" stroke=\"#000000\"/>\n",
       "<text fill=\"#000000\" font-family=\"Times,serif\" font-size=\"14.00\" text-anchor=\"middle\" x=\"512.3311\" y=\"-250.3\">(None, 32, 32, 32)</text>\n",
       "</g>\n",
       "<!-- 4416574352&#45;&gt;4792307048 -->\n",
       "<g class=\"edge\" id=\"edge11\">\n",
       "<title>4416574352-&gt;4792307048</title>\n",
       "<path d=\"M433.3276,-324.3664C433.3276,-316.1516 433.3276,-306.6579 433.3276,-297.7252\" fill=\"none\" stroke=\"#000000\"/>\n",
       "<polygon fill=\"#000000\" points=\"436.8277,-297.6068 433.3276,-287.6068 429.8277,-297.6069 436.8277,-297.6068\" stroke=\"#000000\"/>\n",
       "</g>\n",
       "<!-- 4792854848 -->\n",
       "<g class=\"node\" id=\"node11\">\n",
       "<title>4792854848</title>\n",
       "<polygon fill=\"none\" points=\"590,-243.5 590,-287.5 866.6553,-287.5 866.6553,-243.5 590,-243.5\" stroke=\"#000000\"/>\n",
       "<text fill=\"#000000\" font-family=\"Times,serif\" font-size=\"14.00\" text-anchor=\"middle\" x=\"641.1689\" y=\"-261.3\">MaxPooling2D</text>\n",
       "<polyline fill=\"none\" points=\"692.3379,-243.5 692.3379,-287.5 \" stroke=\"#000000\"/>\n",
       "<text fill=\"#000000\" font-family=\"Times,serif\" font-size=\"14.00\" text-anchor=\"middle\" x=\"720.1724\" y=\"-272.3\">input:</text>\n",
       "<polyline fill=\"none\" points=\"692.3379,-265.5 748.0068,-265.5 \" stroke=\"#000000\"/>\n",
       "<text fill=\"#000000\" font-family=\"Times,serif\" font-size=\"14.00\" text-anchor=\"middle\" x=\"720.1724\" y=\"-250.3\">output:</text>\n",
       "<polyline fill=\"none\" points=\"748.0068,-243.5 748.0068,-287.5 \" stroke=\"#000000\"/>\n",
       "<text fill=\"#000000\" font-family=\"Times,serif\" font-size=\"14.00\" text-anchor=\"middle\" x=\"807.3311\" y=\"-272.3\">(None, 64, 64, 32)</text>\n",
       "<polyline fill=\"none\" points=\"748.0068,-265.5 866.6553,-265.5 \" stroke=\"#000000\"/>\n",
       "<text fill=\"#000000\" font-family=\"Times,serif\" font-size=\"14.00\" text-anchor=\"middle\" x=\"807.3311\" y=\"-250.3\">(None, 32, 32, 32)</text>\n",
       "</g>\n",
       "<!-- 4792855800&#45;&gt;4792854848 -->\n",
       "<g class=\"edge\" id=\"edge12\">\n",
       "<title>4792855800-&gt;4792854848</title>\n",
       "<path d=\"M713.7927,-324.3664C715.8431,-316.0624 718.2162,-306.4514 720.4427,-297.4341\" fill=\"none\" stroke=\"#000000\"/>\n",
       "<polygon fill=\"#000000\" points=\"723.8699,-298.1543 722.8692,-287.6068 717.074,-296.4763 723.8699,-298.1543\" stroke=\"#000000\"/>\n",
       "</g>\n",
       "<!-- 4791628968 -->\n",
       "<g class=\"node\" id=\"node12\">\n",
       "<title>4791628968</title>\n",
       "<polygon fill=\"none\" points=\"37.6758,-162.5 37.6758,-206.5 262.9795,-206.5 262.9795,-162.5 37.6758,-162.5\" stroke=\"#000000\"/>\n",
       "<text fill=\"#000000\" font-family=\"Times,serif\" font-size=\"14.00\" text-anchor=\"middle\" x=\"63.1689\" y=\"-180.3\">Dense</text>\n",
       "<polyline fill=\"none\" points=\"88.6621,-162.5 88.6621,-206.5 \" stroke=\"#000000\"/>\n",
       "<text fill=\"#000000\" font-family=\"Times,serif\" font-size=\"14.00\" text-anchor=\"middle\" x=\"116.4966\" y=\"-191.3\">input:</text>\n",
       "<polyline fill=\"none\" points=\"88.6621,-184.5 144.3311,-184.5 \" stroke=\"#000000\"/>\n",
       "<text fill=\"#000000\" font-family=\"Times,serif\" font-size=\"14.00\" text-anchor=\"middle\" x=\"116.4966\" y=\"-169.3\">output:</text>\n",
       "<polyline fill=\"none\" points=\"144.3311,-162.5 144.3311,-206.5 \" stroke=\"#000000\"/>\n",
       "<text fill=\"#000000\" font-family=\"Times,serif\" font-size=\"14.00\" text-anchor=\"middle\" x=\"203.6553\" y=\"-191.3\">(None, 32, 32, 32)</text>\n",
       "<polyline fill=\"none\" points=\"144.3311,-184.5 262.9795,-184.5 \" stroke=\"#000000\"/>\n",
       "<text fill=\"#000000\" font-family=\"Times,serif\" font-size=\"14.00\" text-anchor=\"middle\" x=\"203.6553\" y=\"-169.3\">(None, 32, 32, 20)</text>\n",
       "</g>\n",
       "<!-- 4791426408&#45;&gt;4791628968 -->\n",
       "<g class=\"edge\" id=\"edge13\">\n",
       "<title>4791426408-&gt;4791628968</title>\n",
       "<path d=\"M141.6067,-243.3664C142.8237,-235.1516 144.2302,-225.6579 145.5535,-216.7252\" fill=\"none\" stroke=\"#000000\"/>\n",
       "<polygon fill=\"#000000\" points=\"149.0492,-217.0118 147.0525,-206.6068 142.1248,-215.9859 149.0492,-217.0118\" stroke=\"#000000\"/>\n",
       "</g>\n",
       "<!-- 4792306152 -->\n",
       "<g class=\"node\" id=\"node13\">\n",
       "<title>4792306152</title>\n",
       "<polygon fill=\"none\" points=\"320.6758,-162.5 320.6758,-206.5 545.9795,-206.5 545.9795,-162.5 320.6758,-162.5\" stroke=\"#000000\"/>\n",
       "<text fill=\"#000000\" font-family=\"Times,serif\" font-size=\"14.00\" text-anchor=\"middle\" x=\"346.1689\" y=\"-180.3\">Dense</text>\n",
       "<polyline fill=\"none\" points=\"371.6621,-162.5 371.6621,-206.5 \" stroke=\"#000000\"/>\n",
       "<text fill=\"#000000\" font-family=\"Times,serif\" font-size=\"14.00\" text-anchor=\"middle\" x=\"399.4966\" y=\"-191.3\">input:</text>\n",
       "<polyline fill=\"none\" points=\"371.6621,-184.5 427.3311,-184.5 \" stroke=\"#000000\"/>\n",
       "<text fill=\"#000000\" font-family=\"Times,serif\" font-size=\"14.00\" text-anchor=\"middle\" x=\"399.4966\" y=\"-169.3\">output:</text>\n",
       "<polyline fill=\"none\" points=\"427.3311,-162.5 427.3311,-206.5 \" stroke=\"#000000\"/>\n",
       "<text fill=\"#000000\" font-family=\"Times,serif\" font-size=\"14.00\" text-anchor=\"middle\" x=\"486.6553\" y=\"-191.3\">(None, 32, 32, 32)</text>\n",
       "<polyline fill=\"none\" points=\"427.3311,-184.5 545.9795,-184.5 \" stroke=\"#000000\"/>\n",
       "<text fill=\"#000000\" font-family=\"Times,serif\" font-size=\"14.00\" text-anchor=\"middle\" x=\"486.6553\" y=\"-169.3\">(None, 32, 32, 20)</text>\n",
       "</g>\n",
       "<!-- 4792307048&#45;&gt;4792306152 -->\n",
       "<g class=\"edge\" id=\"edge14\">\n",
       "<title>4792307048-&gt;4792306152</title>\n",
       "<path d=\"M433.3276,-243.3664C433.3276,-235.1516 433.3276,-225.6579 433.3276,-216.7252\" fill=\"none\" stroke=\"#000000\"/>\n",
       "<polygon fill=\"#000000\" points=\"436.8277,-216.6068 433.3276,-206.6068 429.8277,-216.6069 436.8277,-216.6068\" stroke=\"#000000\"/>\n",
       "</g>\n",
       "<!-- 4792950680 -->\n",
       "<g class=\"node\" id=\"node14\">\n",
       "<title>4792950680</title>\n",
       "<polygon fill=\"none\" points=\"603.6758,-162.5 603.6758,-206.5 828.9795,-206.5 828.9795,-162.5 603.6758,-162.5\" stroke=\"#000000\"/>\n",
       "<text fill=\"#000000\" font-family=\"Times,serif\" font-size=\"14.00\" text-anchor=\"middle\" x=\"629.1689\" y=\"-180.3\">Dense</text>\n",
       "<polyline fill=\"none\" points=\"654.6621,-162.5 654.6621,-206.5 \" stroke=\"#000000\"/>\n",
       "<text fill=\"#000000\" font-family=\"Times,serif\" font-size=\"14.00\" text-anchor=\"middle\" x=\"682.4966\" y=\"-191.3\">input:</text>\n",
       "<polyline fill=\"none\" points=\"654.6621,-184.5 710.3311,-184.5 \" stroke=\"#000000\"/>\n",
       "<text fill=\"#000000\" font-family=\"Times,serif\" font-size=\"14.00\" text-anchor=\"middle\" x=\"682.4966\" y=\"-169.3\">output:</text>\n",
       "<polyline fill=\"none\" points=\"710.3311,-162.5 710.3311,-206.5 \" stroke=\"#000000\"/>\n",
       "<text fill=\"#000000\" font-family=\"Times,serif\" font-size=\"14.00\" text-anchor=\"middle\" x=\"769.6553\" y=\"-191.3\">(None, 32, 32, 32)</text>\n",
       "<polyline fill=\"none\" points=\"710.3311,-184.5 828.9795,-184.5 \" stroke=\"#000000\"/>\n",
       "<text fill=\"#000000\" font-family=\"Times,serif\" font-size=\"14.00\" text-anchor=\"middle\" x=\"769.6553\" y=\"-169.3\">(None, 32, 32, 20)</text>\n",
       "</g>\n",
       "<!-- 4792854848&#45;&gt;4792950680 -->\n",
       "<g class=\"edge\" id=\"edge15\">\n",
       "<title>4792854848-&gt;4792950680</title>\n",
       "<path d=\"M725.0486,-243.3664C723.8316,-235.1516 722.4251,-225.6579 721.1017,-216.7252\" fill=\"none\" stroke=\"#000000\"/>\n",
       "<polygon fill=\"#000000\" points=\"724.5305,-215.9859 719.6027,-206.6068 717.6061,-217.0118 724.5305,-215.9859\" stroke=\"#000000\"/>\n",
       "</g>\n",
       "<!-- 4791854696 -->\n",
       "<g class=\"node\" id=\"node15\">\n",
       "<title>4791854696</title>\n",
       "<polygon fill=\"none\" points=\"59.7275,-81.5 59.7275,-125.5 288.9277,-125.5 288.9277,-81.5 59.7275,-81.5\" stroke=\"#000000\"/>\n",
       "<text fill=\"#000000\" font-family=\"Times,serif\" font-size=\"14.00\" text-anchor=\"middle\" x=\"87.1689\" y=\"-99.3\">Flatten</text>\n",
       "<polyline fill=\"none\" points=\"114.6104,-81.5 114.6104,-125.5 \" stroke=\"#000000\"/>\n",
       "<text fill=\"#000000\" font-family=\"Times,serif\" font-size=\"14.00\" text-anchor=\"middle\" x=\"142.4448\" y=\"-110.3\">input:</text>\n",
       "<polyline fill=\"none\" points=\"114.6104,-103.5 170.2793,-103.5 \" stroke=\"#000000\"/>\n",
       "<text fill=\"#000000\" font-family=\"Times,serif\" font-size=\"14.00\" text-anchor=\"middle\" x=\"142.4448\" y=\"-88.3\">output:</text>\n",
       "<polyline fill=\"none\" points=\"170.2793,-81.5 170.2793,-125.5 \" stroke=\"#000000\"/>\n",
       "<text fill=\"#000000\" font-family=\"Times,serif\" font-size=\"14.00\" text-anchor=\"middle\" x=\"229.6035\" y=\"-110.3\">(None, 32, 32, 20)</text>\n",
       "<polyline fill=\"none\" points=\"170.2793,-103.5 288.9277,-103.5 \" stroke=\"#000000\"/>\n",
       "<text fill=\"#000000\" font-family=\"Times,serif\" font-size=\"14.00\" text-anchor=\"middle\" x=\"229.6035\" y=\"-88.3\">(None, 20480)</text>\n",
       "</g>\n",
       "<!-- 4791628968&#45;&gt;4791854696 -->\n",
       "<g class=\"edge\" id=\"edge16\">\n",
       "<title>4791628968-&gt;4791854696</title>\n",
       "<path d=\"M156.8857,-162.3664C159.3462,-154.0624 162.1939,-144.4514 164.8657,-135.4341\" fill=\"none\" stroke=\"#000000\"/>\n",
       "<polygon fill=\"#000000\" points=\"168.2923,-136.1892 167.7775,-125.6068 161.5807,-134.2005 168.2923,-136.1892\" stroke=\"#000000\"/>\n",
       "</g>\n",
       "<!-- 4792418088 -->\n",
       "<g class=\"node\" id=\"node16\">\n",
       "<title>4792418088</title>\n",
       "<polygon fill=\"none\" points=\"318.7275,-81.5 318.7275,-125.5 547.9277,-125.5 547.9277,-81.5 318.7275,-81.5\" stroke=\"#000000\"/>\n",
       "<text fill=\"#000000\" font-family=\"Times,serif\" font-size=\"14.00\" text-anchor=\"middle\" x=\"346.1689\" y=\"-99.3\">Flatten</text>\n",
       "<polyline fill=\"none\" points=\"373.6104,-81.5 373.6104,-125.5 \" stroke=\"#000000\"/>\n",
       "<text fill=\"#000000\" font-family=\"Times,serif\" font-size=\"14.00\" text-anchor=\"middle\" x=\"401.4448\" y=\"-110.3\">input:</text>\n",
       "<polyline fill=\"none\" points=\"373.6104,-103.5 429.2793,-103.5 \" stroke=\"#000000\"/>\n",
       "<text fill=\"#000000\" font-family=\"Times,serif\" font-size=\"14.00\" text-anchor=\"middle\" x=\"401.4448\" y=\"-88.3\">output:</text>\n",
       "<polyline fill=\"none\" points=\"429.2793,-81.5 429.2793,-125.5 \" stroke=\"#000000\"/>\n",
       "<text fill=\"#000000\" font-family=\"Times,serif\" font-size=\"14.00\" text-anchor=\"middle\" x=\"488.6035\" y=\"-110.3\">(None, 32, 32, 20)</text>\n",
       "<polyline fill=\"none\" points=\"429.2793,-103.5 547.9277,-103.5 \" stroke=\"#000000\"/>\n",
       "<text fill=\"#000000\" font-family=\"Times,serif\" font-size=\"14.00\" text-anchor=\"middle\" x=\"488.6035\" y=\"-88.3\">(None, 20480)</text>\n",
       "</g>\n",
       "<!-- 4792306152&#45;&gt;4792418088 -->\n",
       "<g class=\"edge\" id=\"edge17\">\n",
       "<title>4792306152-&gt;4792418088</title>\n",
       "<path d=\"M433.3276,-162.3664C433.3276,-154.1516 433.3276,-144.6579 433.3276,-135.7252\" fill=\"none\" stroke=\"#000000\"/>\n",
       "<polygon fill=\"#000000\" points=\"436.8277,-135.6068 433.3276,-125.6068 429.8277,-135.6069 436.8277,-135.6068\" stroke=\"#000000\"/>\n",
       "</g>\n",
       "<!-- 4791558888 -->\n",
       "<g class=\"node\" id=\"node17\">\n",
       "<title>4791558888</title>\n",
       "<polygon fill=\"none\" points=\"589.7275,-81.5 589.7275,-125.5 818.9277,-125.5 818.9277,-81.5 589.7275,-81.5\" stroke=\"#000000\"/>\n",
       "<text fill=\"#000000\" font-family=\"Times,serif\" font-size=\"14.00\" text-anchor=\"middle\" x=\"617.1689\" y=\"-99.3\">Flatten</text>\n",
       "<polyline fill=\"none\" points=\"644.6104,-81.5 644.6104,-125.5 \" stroke=\"#000000\"/>\n",
       "<text fill=\"#000000\" font-family=\"Times,serif\" font-size=\"14.00\" text-anchor=\"middle\" x=\"672.4448\" y=\"-110.3\">input:</text>\n",
       "<polyline fill=\"none\" points=\"644.6104,-103.5 700.2793,-103.5 \" stroke=\"#000000\"/>\n",
       "<text fill=\"#000000\" font-family=\"Times,serif\" font-size=\"14.00\" text-anchor=\"middle\" x=\"672.4448\" y=\"-88.3\">output:</text>\n",
       "<polyline fill=\"none\" points=\"700.2793,-81.5 700.2793,-125.5 \" stroke=\"#000000\"/>\n",
       "<text fill=\"#000000\" font-family=\"Times,serif\" font-size=\"14.00\" text-anchor=\"middle\" x=\"759.6035\" y=\"-110.3\">(None, 32, 32, 20)</text>\n",
       "<polyline fill=\"none\" points=\"700.2793,-103.5 818.9277,-103.5 \" stroke=\"#000000\"/>\n",
       "<text fill=\"#000000\" font-family=\"Times,serif\" font-size=\"14.00\" text-anchor=\"middle\" x=\"759.6035\" y=\"-88.3\">(None, 20480)</text>\n",
       "</g>\n",
       "<!-- 4792950680&#45;&gt;4791558888 -->\n",
       "<g class=\"edge\" id=\"edge18\">\n",
       "<title>4792950680-&gt;4791558888</title>\n",
       "<path d=\"M713.0486,-162.3664C711.8316,-154.1516 710.4251,-144.6579 709.1017,-135.7252\" fill=\"none\" stroke=\"#000000\"/>\n",
       "<polygon fill=\"#000000\" points=\"712.5305,-134.9859 707.6027,-125.6068 705.6061,-136.0118 712.5305,-134.9859\" stroke=\"#000000\"/>\n",
       "</g>\n",
       "<!-- 4791559952 -->\n",
       "<g class=\"node\" id=\"node18\">\n",
       "<title>4791559952</title>\n",
       "<polygon fill=\"none\" points=\"207.0078,-.5 207.0078,-44.5 659.6475,-44.5 659.6475,-.5 207.0078,-.5\" stroke=\"#000000\"/>\n",
       "<text fill=\"#000000\" font-family=\"Times,serif\" font-size=\"14.00\" text-anchor=\"middle\" x=\"263.3584\" y=\"-18.3\">TripletLossLayer</text>\n",
       "<polyline fill=\"none\" points=\"319.709,-.5 319.709,-44.5 \" stroke=\"#000000\"/>\n",
       "<text fill=\"#000000\" font-family=\"Times,serif\" font-size=\"14.00\" text-anchor=\"middle\" x=\"347.5435\" y=\"-29.3\">input:</text>\n",
       "<polyline fill=\"none\" points=\"319.709,-22.5 375.3779,-22.5 \" stroke=\"#000000\"/>\n",
       "<text fill=\"#000000\" font-family=\"Times,serif\" font-size=\"14.00\" text-anchor=\"middle\" x=\"347.5435\" y=\"-7.3\">output:</text>\n",
       "<polyline fill=\"none\" points=\"375.3779,-.5 375.3779,-44.5 \" stroke=\"#000000\"/>\n",
       "<text fill=\"#000000\" font-family=\"Times,serif\" font-size=\"14.00\" text-anchor=\"middle\" x=\"517.5127\" y=\"-29.3\">[(None, 20480), (None, 20480), (None, 20480)]</text>\n",
       "<polyline fill=\"none\" points=\"375.3779,-22.5 659.6475,-22.5 \" stroke=\"#000000\"/>\n",
       "<text fill=\"#000000\" font-family=\"Times,serif\" font-size=\"14.00\" text-anchor=\"middle\" x=\"517.5127\" y=\"-7.3\">[(None, 20480), (None, 20480), (None, 20480)]</text>\n",
       "</g>\n",
       "<!-- 4791854696&#45;&gt;4791559952 -->\n",
       "<g class=\"edge\" id=\"edge19\">\n",
       "<title>4791854696-&gt;4791559952</title>\n",
       "<path d=\"M244.7584,-81.4734C278.3043,-70.9822 318.5804,-58.3862 353.2815,-47.5337\" fill=\"none\" stroke=\"#000000\"/>\n",
       "<polygon fill=\"#000000\" points=\"354.4115,-50.8476 362.9109,-44.5222 352.322,-44.1667 354.4115,-50.8476\" stroke=\"#000000\"/>\n",
       "</g>\n",
       "<!-- 4792418088&#45;&gt;4791559952 -->\n",
       "<g class=\"edge\" id=\"edge20\">\n",
       "<title>4792418088-&gt;4791559952</title>\n",
       "<path d=\"M433.3276,-81.3664C433.3276,-73.1516 433.3276,-63.6579 433.3276,-54.7252\" fill=\"none\" stroke=\"#000000\"/>\n",
       "<polygon fill=\"#000000\" points=\"436.8277,-54.6068 433.3276,-44.6068 429.8277,-54.6069 436.8277,-54.6068\" stroke=\"#000000\"/>\n",
       "</g>\n",
       "<!-- 4791558888&#45;&gt;4791559952 -->\n",
       "<g class=\"edge\" id=\"edge21\">\n",
       "<title>4791558888-&gt;4791559952</title>\n",
       "<path d=\"M630.6337,-81.4734C595.3835,-70.9374 553.031,-58.2785 516.6173,-47.3947\" fill=\"none\" stroke=\"#000000\"/>\n",
       "<polygon fill=\"#000000\" points=\"517.5905,-44.0326 507.0069,-44.5222 515.5858,-50.7395 517.5905,-44.0326\" stroke=\"#000000\"/>\n",
       "</g>\n",
       "</g>\n",
       "</svg>"
      ],
      "text/plain": [
       "<IPython.core.display.SVG object>"
      ]
     },
     "execution_count": 10,
     "metadata": {},
     "output_type": "execute_result"
    }
   ],
   "source": [
    "# Jupyter上に構造を出力\n",
    "from IPython.display import SVG\n",
    "from keras.utils.vis_utils import model_to_dot\n",
    "\n",
    "SVG(model_to_dot(tripletNet, show_shapes=True, show_layer_names=False).create(prog='dot', format='svg'))"
   ]
  },
  {
   "cell_type": "markdown",
   "metadata": {},
   "source": [
    "## 動作確認"
   ]
  },
  {
   "cell_type": "code",
   "execution_count": 11,
   "metadata": {
    "collapsed": false,
    "scrolled": true
   },
   "outputs": [
    {
     "name": "stderr",
     "output_type": "stream",
     "text": [
      "/Users/zukako/.pyenv/versions/anaconda3-4.0.0/envs/keras/lib/python3.6/site-packages/ipykernel_launcher.py:6: UserWarning: Output \"triplet_loss_layer\" missing from loss dictionary. We assume this was done on purpose, and we will not be expecting any data to be passed to \"triplet_loss_layer\" during training.\n",
      "  \n"
     ]
    }
   ],
   "source": [
    "# sample data\n",
    "# data_gen.pyからtriplet_generatorを読み込んでsample生成\n",
    "from data_gen import triplet_generator\n",
    "generator = triplet_generator()\n",
    "\n",
    "tripletNet.compile(loss=None, optimizer='adam')\n",
    "# tripletNet.fit_generator(generator=generator, epochs=10, steps_per_epoch=100)"
   ]
  },
  {
   "cell_type": "code",
   "execution_count": 12,
   "metadata": {
    "collapsed": false
   },
   "outputs": [],
   "source": [
    "import numpy as np\n",
    "a_batch = np.random.rand(4, 128, 128, 3)\n",
    "p_batch = np.random.rand(4, 128, 128, 3)\n",
    "n_batch = np.random.rand(4, 128, 128, 3)\n",
    "\n",
    "x = [a_batch,p_batch,n_batch]"
   ]
  },
  {
   "cell_type": "code",
   "execution_count": 13,
   "metadata": {
    "collapsed": false,
    "scrolled": false
   },
   "outputs": [],
   "source": [
    "# tripletNet=tripletNet.fit(x, epochs=1, steps_per_epoch=100)"
   ]
  },
  {
   "cell_type": "markdown",
   "metadata": {},
   "source": [
    "## 簡単なデータセットで実験してみる\n",
    "いきなりDeepFashionのデータを扱うのではなく、より簡単な画像で実験する。<br>\n",
    "<del>アニメのキャラ画像でやる。</del><br>\n",
    "乃木坂の画像でやる。"
   ]
  },
  {
   "cell_type": "markdown",
   "metadata": {},
   "source": [
    "## 乃木坂の画像をnumpy配列に変更。"
   ]
  },
  {
   "cell_type": "code",
   "execution_count": 14,
   "metadata": {
    "collapsed": true
   },
   "outputs": [],
   "source": [
    "import os\n",
    "from keras.preprocessing.image import array_to_img, img_to_array, list_pictures, load_img # keras library for image to array"
   ]
  },
  {
   "cell_type": "code",
   "execution_count": 15,
   "metadata": {
    "collapsed": false
   },
   "outputs": [
    {
     "data": {
      "text/plain": [
       "['shiraishi', 'akimoto', '.DS_Store', 'test', 'ikuta', 'the_others', 'nishino']"
      ]
     },
     "execution_count": 15,
     "metadata": {},
     "output_type": "execute_result"
    }
   ],
   "source": [
    "# check dataset\n",
    "os.listdir('nogi_imgs/') "
   ]
  },
  {
   "cell_type": "code",
   "execution_count": 16,
   "metadata": {
    "collapsed": false,
    "scrolled": true
   },
   "outputs": [
    {
     "ename": "NameError",
     "evalue": "name 'plt' is not defined",
     "output_type": "error",
     "traceback": [
      "\u001b[0;31m---------------------------------------------------------------------------\u001b[0m",
      "\u001b[0;31mNameError\u001b[0m                                 Traceback (most recent call last)",
      "\u001b[0;32m<ipython-input-16-816933d73730>\u001b[0m in \u001b[0;36m<module>\u001b[0;34m()\u001b[0m\n\u001b[1;32m      2\u001b[0m \u001b[0mtemp_img\u001b[0m \u001b[0;34m=\u001b[0m \u001b[0mload_img\u001b[0m\u001b[0;34m(\u001b[0m\u001b[0;34m'./nogi_imgs/shiraishi/inputImage2_0.png'\u001b[0m\u001b[0;34m,\u001b[0m \u001b[0mtarget_size\u001b[0m\u001b[0;34m=\u001b[0m\u001b[0;34m(\u001b[0m\u001b[0;36m64\u001b[0m\u001b[0;34m,\u001b[0m\u001b[0;36m64\u001b[0m\u001b[0;34m)\u001b[0m\u001b[0;34m)\u001b[0m\u001b[0;34m\u001b[0m\u001b[0m\n\u001b[1;32m      3\u001b[0m \u001b[0mtemp_img_array\u001b[0m  \u001b[0;34m=\u001b[0m \u001b[0mimg_to_array\u001b[0m\u001b[0;34m(\u001b[0m\u001b[0mtemp_img\u001b[0m\u001b[0;34m)\u001b[0m\u001b[0;34m\u001b[0m\u001b[0m\n\u001b[0;32m----> 4\u001b[0;31m \u001b[0mplt\u001b[0m\u001b[0;34m.\u001b[0m\u001b[0mimshow\u001b[0m\u001b[0;34m(\u001b[0m\u001b[0mtemp_img_array\u001b[0m\u001b[0;34m)\u001b[0m\u001b[0;34m\u001b[0m\u001b[0m\n\u001b[0m\u001b[1;32m      5\u001b[0m \u001b[0mplt\u001b[0m\u001b[0;34m.\u001b[0m\u001b[0mshow\u001b[0m\u001b[0;34m(\u001b[0m\u001b[0;34m)\u001b[0m\u001b[0;34m\u001b[0m\u001b[0m\n",
      "\u001b[0;31mNameError\u001b[0m: name 'plt' is not defined"
     ]
    }
   ],
   "source": [
    "# load_imgを用いるとRGBがおかしくなる？\n",
    "temp_img = load_img('./nogi_imgs/shiraishi/inputImage2_0.png', target_size=(64,64))\n",
    "temp_img_array  = img_to_array(temp_img)\n",
    "plt.imshow(temp_img_array)\n",
    "plt.show()"
   ]
  },
  {
   "cell_type": "code",
   "execution_count": 18,
   "metadata": {
    "collapsed": false,
    "scrolled": true
   },
   "outputs": [
    {
     "ename": "NameError",
     "evalue": "name 'plt' is not defined",
     "output_type": "error",
     "traceback": [
      "\u001b[0;31m---------------------------------------------------------------------------\u001b[0m",
      "\u001b[0;31mNameError\u001b[0m                                 Traceback (most recent call last)",
      "\u001b[0;32m<ipython-input-18-3af371c32ecd>\u001b[0m in \u001b[0;36m<module>\u001b[0;34m()\u001b[0m\n\u001b[0;32m----> 1\u001b[0;31m \u001b[0mimg\u001b[0m \u001b[0;34m=\u001b[0m \u001b[0mplt\u001b[0m\u001b[0;34m.\u001b[0m\u001b[0mimread\u001b[0m\u001b[0;34m(\u001b[0m\u001b[0;34m'./nogi_imgs/shiraishi/inputImage2_0.png'\u001b[0m\u001b[0;34m)\u001b[0m\u001b[0;34m\u001b[0m\u001b[0m\n\u001b[0m\u001b[1;32m      2\u001b[0m \u001b[0mplt\u001b[0m\u001b[0;34m.\u001b[0m\u001b[0mimshow\u001b[0m\u001b[0;34m(\u001b[0m\u001b[0mimg\u001b[0m\u001b[0;34m)\u001b[0m\u001b[0;34m\u001b[0m\u001b[0m\n\u001b[1;32m      3\u001b[0m \u001b[0mplt\u001b[0m\u001b[0;34m.\u001b[0m\u001b[0mshow\u001b[0m\u001b[0;34m(\u001b[0m\u001b[0;34m)\u001b[0m\u001b[0;34m\u001b[0m\u001b[0m\n",
      "\u001b[0;31mNameError\u001b[0m: name 'plt' is not defined"
     ]
    }
   ],
   "source": [
    "img = plt.imread('./nogi_imgs/shiraishi/inputImage2_0.png')\n",
    "plt.imshow(img)\n",
    "plt.show()"
   ]
  },
  {
   "cell_type": "code",
   "execution_count": null,
   "metadata": {
    "collapsed": false,
    "scrolled": true
   },
   "outputs": [],
   "source": [
    "type(img)"
   ]
  },
  {
   "cell_type": "code",
   "execution_count": 17,
   "metadata": {
    "collapsed": false
   },
   "outputs": [],
   "source": [
    "dir_path = './nogi_imgs/shiraishi/'\n",
    "others_path = './nogi_imgs/the_others/'\n",
    "files = [f for f in sorted(os.listdir(dir_path))]\n",
    "other_files = [o for o in sorted(os.listdir(others_path))]\n",
    "# files"
   ]
  },
  {
   "cell_type": "markdown",
   "metadata": {},
   "source": [
    "同一人物の画像のペアを乱数で生成し、そこに別の人物の画像を加え**triplet**を構成する。<br>\n",
    "**triplet = [anchor, positive, negative]**が想定されているのでそのようにリストを作成する。"
   ]
  },
  {
   "cell_type": "code",
   "execution_count": 19,
   "metadata": {
    "collapsed": false
   },
   "outputs": [],
   "source": [
    "# get anchor and positive image　\n",
    "pair = np.random.randint(0,len(files),2)\n",
    "anchor = plt.imread('{0}{1}'.format(dir_path,files[pair[0]]))\n",
    "positive = plt.imread('{0}{1}'.format(dir_path,files[pair[1]]))"
   ]
  },
  {
   "cell_type": "code",
   "execution_count": 20,
   "metadata": {
    "collapsed": true
   },
   "outputs": [],
   "source": [
    "# get negative image\n",
    "nega_idx = np.random.randint(len(other_files))\n",
    "negative = plt.imread('{}/{}'.format(others_path,other_files[nega_idx]))"
   ]
  },
  {
   "cell_type": "code",
   "execution_count": 21,
   "metadata": {
    "collapsed": true
   },
   "outputs": [],
   "source": [
    "# get triplet\n",
    "triplet = [anchor, positive, negative] "
   ]
  },
  {
   "cell_type": "markdown",
   "metadata": {},
   "source": [
    "## 可視化によるtripletの確認"
   ]
  },
  {
   "cell_type": "code",
   "execution_count": 22,
   "metadata": {
    "collapsed": false
   },
   "outputs": [
    {
     "data": {
      "image/png": "[encoded data removed]",
      "text/plain": [
       "<matplotlib.figure.Figure at 0x129d09e10>"
      ]
     },
     "metadata": {},
     "output_type": "display_data"
    }
   ],
   "source": [
    "plt.subplot(1,3,1)\n",
    "plt.imshow(triplet[0])\n",
    "plt.title('anchor')\n",
    "plt.subplot(1,3,2)\n",
    "plt.imshow(triplet[1])\n",
    "plt.title('positive')\n",
    "plt.subplot(1,3,3)\n",
    "plt.imshow(triplet[2])\n",
    "plt.title('negative')\n",
    "plt.show()"
   ]
  },
  {
   "cell_type": "code",
   "execution_count": null,
   "metadata": {
    "collapsed": true
   },
   "outputs": [],
   "source": []
  }
 ],
 "metadata": {
  "kernelspec": {
   "display_name": "keras36",
   "language": "python",
   "name": "keras36"
  },
  "language_info": {
   "codemirror_mode": {
    "name": "ipython",
    "version": 3
   },
   "file_extension": ".py",
   "mimetype": "text/x-python",
   "name": "python",
   "nbconvert_exporter": "python",
   "pygments_lexer": "ipython3",
   "version": "3.6.2"
  }
 },
 "nbformat": 4,
 "nbformat_minor": 0
}
